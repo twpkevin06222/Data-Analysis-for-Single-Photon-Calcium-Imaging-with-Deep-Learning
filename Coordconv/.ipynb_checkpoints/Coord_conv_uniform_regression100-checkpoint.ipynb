{
 "cells": [
  {
   "cell_type": "markdown",
   "metadata": {},
   "source": [
    "# Notes:"
   ]
  },
  {
   "cell_type": "markdown",
   "metadata": {},
   "source": [
    "- This implementation is a replicate of coordconv uniform dataset regression task from the paper \"An intriguing failing of convolutional neural networks and the CoordConv solution\" by R.Liu et al. (2018) from Uber AI. \n",
    "\n",
    "- The model takes onehot as an input, coordinates as output"
   ]
  },
  {
   "cell_type": "code",
   "execution_count": 1,
   "metadata": {},
   "outputs": [
    {
     "name": "stderr",
     "output_type": "stream",
     "text": [
      "/home/kevinteng/anaconda3/lib/python3.6/site-packages/tensorboard/compat/tensorflow_stub/dtypes.py:541: FutureWarning: Passing (type, 1) or '1type' as a synonym of type is deprecated; in a future version of numpy, it will be understood as (type, (1,)) / '(1,)type'.\n",
      "  _np_qint8 = np.dtype([(\"qint8\", np.int8, 1)])\n",
      "/home/kevinteng/anaconda3/lib/python3.6/site-packages/tensorboard/compat/tensorflow_stub/dtypes.py:542: FutureWarning: Passing (type, 1) or '1type' as a synonym of type is deprecated; in a future version of numpy, it will be understood as (type, (1,)) / '(1,)type'.\n",
      "  _np_quint8 = np.dtype([(\"quint8\", np.uint8, 1)])\n",
      "/home/kevinteng/anaconda3/lib/python3.6/site-packages/tensorboard/compat/tensorflow_stub/dtypes.py:543: FutureWarning: Passing (type, 1) or '1type' as a synonym of type is deprecated; in a future version of numpy, it will be understood as (type, (1,)) / '(1,)type'.\n",
      "  _np_qint16 = np.dtype([(\"qint16\", np.int16, 1)])\n",
      "/home/kevinteng/anaconda3/lib/python3.6/site-packages/tensorboard/compat/tensorflow_stub/dtypes.py:544: FutureWarning: Passing (type, 1) or '1type' as a synonym of type is deprecated; in a future version of numpy, it will be understood as (type, (1,)) / '(1,)type'.\n",
      "  _np_quint16 = np.dtype([(\"quint16\", np.uint16, 1)])\n",
      "/home/kevinteng/anaconda3/lib/python3.6/site-packages/tensorboard/compat/tensorflow_stub/dtypes.py:545: FutureWarning: Passing (type, 1) or '1type' as a synonym of type is deprecated; in a future version of numpy, it will be understood as (type, (1,)) / '(1,)type'.\n",
      "  _np_qint32 = np.dtype([(\"qint32\", np.int32, 1)])\n",
      "/home/kevinteng/anaconda3/lib/python3.6/site-packages/tensorboard/compat/tensorflow_stub/dtypes.py:550: FutureWarning: Passing (type, 1) or '1type' as a synonym of type is deprecated; in a future version of numpy, it will be understood as (type, (1,)) / '(1,)type'.\n",
      "  np_resource = np.dtype([(\"resource\", np.ubyte, 1)])\n"
     ]
    }
   ],
   "source": [
    "import os\n",
    "import sys\n",
    "import numpy as np\n",
    "import matplotlib.pyplot as plt\n",
    "%matplotlib inline\n",
    "import tensorflow as tf"
   ]
  },
  {
   "cell_type": "code",
   "execution_count": 2,
   "metadata": {},
   "outputs": [],
   "source": [
    "#retrieve data from folder\n",
    "\n",
    "#references: https://github.com/titu1994/keras-coordconv/blob/master/experiments/train_uniform_classifier.py\n",
    "train_onehot = np.load('coordconv_data/train_onehot100.npy').astype('float32')\n",
    "test_onehot = np.load('coordconv_data/test_onehot100.npy').astype('float32')\n",
    "\n",
    "#retrieve coordinates\n",
    "coord_train = np.where(train_onehot == 1.0)\n",
    "coord_test = np.where(test_onehot == 1.0)\n",
    "\n",
    "#Training coords \n",
    "x_coord_train = coord_train[1]\n",
    "y_coord_train = coord_train[2]\n",
    "\n",
    "#Test coords\n",
    "x_coord_test = coord_test[1]\n",
    "y_coord_test = coord_test[2]"
   ]
  },
  {
   "cell_type": "code",
   "execution_count": 3,
   "metadata": {},
   "outputs": [],
   "source": [
    "xy_coord_train = np.zeros((len(x_coord_train), 1, 1, 2), dtype='float32')\n",
    "xy_coord_test = np.zeros((len(x_coord_test), 1, 1, 2), dtype='float32')\n",
    "\n",
    "for i ,(x, y) in enumerate(zip(x_coord_train, y_coord_train)):\n",
    "    xy_coord_train[i, 0, 0, 0] = x \n",
    "    xy_coord_train[i, 0, 0, 1] = y \n",
    "    \n",
    "for i ,(x, y) in enumerate(zip(x_coord_test, y_coord_test)):\n",
    "    xy_coord_test[i, 0, 0, 0] = x \n",
    "    xy_coord_test[i, 0, 0, 1] = y     "
   ]
  },
  {
   "cell_type": "code",
   "execution_count": 4,
   "metadata": {
    "scrolled": false
   },
   "outputs": [
    {
     "data": {
      "image/png": "[encoded data removed]",
      "text/plain": [
       "<Figure size 432x288 with 1 Axes>"
      ]
     },
     "metadata": {},
     "output_type": "display_data"
    },
    {
     "data": {
      "image/png": "[encoded data removed]",
      "text/plain": [
       "<Figure size 432x288 with 1 Axes>"
      ]
     },
     "metadata": {},
     "output_type": "display_data"
    }
   ],
   "source": [
    "# Plot dataset\n",
    "\n",
    "plt.imshow(np.sum(train_onehot, axis=0)[:, :, 0], cmap='gray')\n",
    "plt.title('Train One-hot dataset')\n",
    "plt.show()\n",
    "plt.imshow(np.sum(test_onehot, axis=0)[:, :, 0], cmap='gray')\n",
    "plt.title('Test One-hot dataset')\n",
    "plt.show()"
   ]
  },
  {
   "cell_type": "code",
   "execution_count": 5,
   "metadata": {},
   "outputs": [],
   "source": [
    "noise = tf.expand_dims(np.sum(test_onehot[:500], axis=0)*(0.8), 0)"
   ]
  },
  {
   "cell_type": "code",
   "execution_count": 6,
   "metadata": {},
   "outputs": [],
   "source": [
    "train_onehot02 = train_onehot + noise"
   ]
  },
  {
   "cell_type": "code",
   "execution_count": 7,
   "metadata": {
    "scrolled": false
   },
   "outputs": [],
   "source": [
    "# for i in range(len(train_onehot)):\n",
    "#     plt.imshow(train_onehot[i, :, :, 0], cmap='gray')\n",
    "#     print(\"Training data set label #{}, x coordinate: \".format(i))\n",
    "#     plt.show()\n",
    "\n",
    "#     if input()== 'exit':\n",
    "#         break"
   ]
  },
  {
   "cell_type": "markdown",
   "metadata": {},
   "source": [
    "# Coordconv Model"
   ]
  },
  {
   "cell_type": "code",
   "execution_count": 8,
   "metadata": {},
   "outputs": [],
   "source": [
    "#model \n",
    "from tensorflow.keras import Model, Sequential\n",
    "from tensorflow.keras.layers import Input, Conv2D, Flatten, Dense, Softmax, MaxPooling2D\n",
    "from coord_conv import CoordConv\n",
    "\n",
    "def model_regression(inps): \n",
    "    coord01 = CoordConv(x_dim = 100, y_dim = 100, with_r = False, filters = 20, \n",
    "              kernel_size = 1)(inps)\n",
    "    conv01 = Conv2D(20,1, activation = None)(coord01) \n",
    "    conv02 = Conv2D(20,1, activation = None)(conv01)\n",
    "    conv03 = Conv2D(20,1, activation = None)(conv02)\n",
    "    conv04 = Conv2D(20,1, activation = None)(conv03) \n",
    "    conv05 = Conv2D(20,1, activation = None)(conv04) \n",
    "    conv06 = Conv2D(20,3, activation = None)(conv05) \n",
    "    conv07 = Conv2D(2,3 ,activation = None)(conv06) \n",
    "    output = MaxPooling2D( pool_size=96, strides=96, padding='valid')(conv07)\n",
    "    return output \n",
    "\n",
    "def model_regression02(inps): \n",
    "    coord01 = CoordConv(x_dim = 100, y_dim = 100, with_r = False, filters = 128, \n",
    "              kernel_size = 1, activation = 'relu')(inps)\n",
    "    conv01 = Conv2D(64,1, activation = 'relu')(coord01) \n",
    "    conv02 = Conv2D(32,3, activation = 'relu')(conv01) \n",
    "    maxPool01 = MaxPooling2D(pool_size = (2,2), strides = 2)(conv02)\n",
    "    conv03 = Conv2D(2,3 ,activation = None)(maxPool01) \n",
    "    output = MaxPooling2D( pool_size=47, strides=47, padding='valid')(conv03)\n",
    "    return output \n",
    "\n",
    "model_input = Input(shape=(100,100,1))\n",
    "model = Model(model_input, model_regression(model_input))"
   ]
  },
  {
   "cell_type": "code",
   "execution_count": 9,
   "metadata": {
    "scrolled": false
   },
   "outputs": [
    {
     "name": "stdout",
     "output_type": "stream",
     "text": [
      "Model: \"model\"\n",
      "_________________________________________________________________\n",
      "Layer (type)                 Output Shape              Param #   \n",
      "=================================================================\n",
      "input_1 (InputLayer)         [(None, 100, 100, 1)]     0         \n",
      "_________________________________________________________________\n",
      "coord_conv (CoordConv)       (None, 100, 100, 128)     512       \n",
      "_________________________________________________________________\n",
      "conv2d_1 (Conv2D)            (None, 100, 100, 64)      8256      \n",
      "_________________________________________________________________\n",
      "conv2d_2 (Conv2D)            (None, 98, 98, 32)        18464     \n",
      "_________________________________________________________________\n",
      "max_pooling2d (MaxPooling2D) (None, 49, 49, 32)        0         \n",
      "_________________________________________________________________\n",
      "conv2d_3 (Conv2D)            (None, 47, 47, 2)         578       \n",
      "_________________________________________________________________\n",
      "max_pooling2d_1 (MaxPooling2 (None, 1, 1, 2)           0         \n",
      "=================================================================\n",
      "Total params: 27,810\n",
      "Trainable params: 27,810\n",
      "Non-trainable params: 0\n",
      "_________________________________________________________________\n"
     ]
    }
   ],
   "source": [
    "model.summary()"
   ]
  },
  {
   "cell_type": "code",
   "execution_count": 10,
   "metadata": {
    "scrolled": false
   },
   "outputs": [
    {
     "name": "stdout",
     "output_type": "stream",
     "text": [
      "Train on 6771 samples, validate on 1693 samples\n",
      "Epoch 1/20\n",
      "6771/6771 [==============================] - 8s 1ms/sample - loss: 788.7929 - accuracy: 0.5092 - val_loss: 753.1339 - val_accuracy: 0.4932\n",
      "Epoch 2/20\n",
      "6771/6771 [==============================] - 6s 932us/sample - loss: 730.8464 - accuracy: 0.4906 - val_loss: 737.1453 - val_accuracy: 0.5068\n",
      "Epoch 3/20\n",
      "6771/6771 [==============================] - 6s 925us/sample - loss: 732.1584 - accuracy: 0.4980 - val_loss: 710.5805 - val_accuracy: 0.4932\n",
      "Epoch 4/20\n",
      "6771/6771 [==============================] - 6s 915us/sample - loss: 723.2279 - accuracy: 0.4955 - val_loss: 723.7888 - val_accuracy: 0.4932\n",
      "Epoch 5/20\n",
      "6771/6771 [==============================] - 6s 910us/sample - loss: 723.4423 - accuracy: 0.5070 - val_loss: 712.6612 - val_accuracy: 0.4932\n",
      "Epoch 6/20\n",
      "6771/6771 [==============================] - 6s 925us/sample - loss: 720.0961 - accuracy: 0.5092 - val_loss: 710.2460 - val_accuracy: 0.4932\n",
      "Epoch 7/20\n",
      "6771/6771 [==============================] - 6s 914us/sample - loss: 715.1980 - accuracy: 0.4967 - val_loss: 716.8204 - val_accuracy: 0.4932\n",
      "Epoch 8/20\n",
      "6771/6771 [==============================] - 6s 913us/sample - loss: 715.3007 - accuracy: 0.5103 - val_loss: 736.5614 - val_accuracy: 0.4932\n",
      "Epoch 9/20\n",
      "6771/6771 [==============================] - 6s 916us/sample - loss: 738.7201 - accuracy: 0.5007 - val_loss: 709.3887 - val_accuracy: 0.5068\n",
      "Epoch 10/20\n",
      "6771/6771 [==============================] - 6s 898us/sample - loss: 715.8357 - accuracy: 0.4992 - val_loss: 729.0149 - val_accuracy: 0.5068\n",
      "Epoch 11/20\n",
      "6771/6771 [==============================] - 6s 927us/sample - loss: 716.3529 - accuracy: 0.5038 - val_loss: 709.8763 - val_accuracy: 0.4932\n",
      "Epoch 12/20\n",
      "6771/6771 [==============================] - 6s 917us/sample - loss: 719.3893 - accuracy: 0.4945 - val_loss: 719.7202 - val_accuracy: 0.5068\n",
      "Epoch 13/20\n",
      "6771/6771 [==============================] - 6s 914us/sample - loss: 713.8725 - accuracy: 0.5002 - val_loss: 712.3817 - val_accuracy: 0.4932\n",
      "Epoch 14/20\n",
      "6771/6771 [==============================] - 6s 919us/sample - loss: 709.1856 - accuracy: 0.4931 - val_loss: 710.9187 - val_accuracy: 0.5068\n",
      "Epoch 15/20\n",
      "6771/6771 [==============================] - 6s 905us/sample - loss: 710.6918 - accuracy: 0.5048 - val_loss: 728.3463 - val_accuracy: 0.5068\n",
      "Epoch 16/20\n",
      "6771/6771 [==============================] - 6s 906us/sample - loss: 713.5044 - accuracy: 0.5016 - val_loss: 712.1267 - val_accuracy: 0.5068\n",
      "Epoch 17/20\n",
      " 288/6771 [>.............................] - ETA: 5s - loss: 715.1931 - accuracy: 0.4965"
     ]
    },
    {
     "ename": "KeyboardInterrupt",
     "evalue": "",
     "output_type": "error",
     "traceback": [
      "\u001b[0;31m---------------------------------------------------------------------------\u001b[0m",
      "\u001b[0;31mKeyboardInterrupt\u001b[0m                         Traceback (most recent call last)",
      "\u001b[0;32m<ipython-input-10-6d8eb12fd49c>\u001b[0m in \u001b[0;36m<module>\u001b[0;34m()\u001b[0m\n\u001b[1;32m      4\u001b[0m \u001b[0mmodel\u001b[0m\u001b[0;34m.\u001b[0m\u001b[0mcompile\u001b[0m\u001b[0;34m(\u001b[0m\u001b[0moptimizer\u001b[0m\u001b[0;34m,\u001b[0m \u001b[0;34m'mean_squared_error'\u001b[0m\u001b[0;34m,\u001b[0m \u001b[0mmetrics\u001b[0m\u001b[0;34m=\u001b[0m\u001b[0;34m[\u001b[0m\u001b[0;34m'accuracy'\u001b[0m\u001b[0;34m]\u001b[0m\u001b[0;34m)\u001b[0m\u001b[0;34m\u001b[0m\u001b[0m\n\u001b[1;32m      5\u001b[0m model.fit(train_onehot,xy_coord_train, batch_size = 32, epochs = 20,\n\u001b[0;32m----> 6\u001b[0;31m           verbose = 1, validation_data = (test_onehot, xy_coord_test))\n\u001b[0m",
      "\u001b[0;32m~/anaconda3/lib/python3.6/site-packages/tensorflow_core/python/keras/engine/training.py\u001b[0m in \u001b[0;36mfit\u001b[0;34m(self, x, y, batch_size, epochs, verbose, callbacks, validation_split, validation_data, shuffle, class_weight, sample_weight, initial_epoch, steps_per_epoch, validation_steps, validation_freq, max_queue_size, workers, use_multiprocessing, **kwargs)\u001b[0m\n\u001b[1;32m    817\u001b[0m         \u001b[0mmax_queue_size\u001b[0m\u001b[0;34m=\u001b[0m\u001b[0mmax_queue_size\u001b[0m\u001b[0;34m,\u001b[0m\u001b[0;34m\u001b[0m\u001b[0m\n\u001b[1;32m    818\u001b[0m         \u001b[0mworkers\u001b[0m\u001b[0;34m=\u001b[0m\u001b[0mworkers\u001b[0m\u001b[0;34m,\u001b[0m\u001b[0;34m\u001b[0m\u001b[0m\n\u001b[0;32m--> 819\u001b[0;31m         use_multiprocessing=use_multiprocessing)\n\u001b[0m\u001b[1;32m    820\u001b[0m \u001b[0;34m\u001b[0m\u001b[0m\n\u001b[1;32m    821\u001b[0m   def evaluate(self,\n",
      "\u001b[0;32m~/anaconda3/lib/python3.6/site-packages/tensorflow_core/python/keras/engine/training_v2.py\u001b[0m in \u001b[0;36mfit\u001b[0;34m(self, model, x, y, batch_size, epochs, verbose, callbacks, validation_split, validation_data, shuffle, class_weight, sample_weight, initial_epoch, steps_per_epoch, validation_steps, validation_freq, max_queue_size, workers, use_multiprocessing, **kwargs)\u001b[0m\n\u001b[1;32m    340\u001b[0m                 \u001b[0mmode\u001b[0m\u001b[0;34m=\u001b[0m\u001b[0mModeKeys\u001b[0m\u001b[0;34m.\u001b[0m\u001b[0mTRAIN\u001b[0m\u001b[0;34m,\u001b[0m\u001b[0;34m\u001b[0m\u001b[0m\n\u001b[1;32m    341\u001b[0m                 \u001b[0mtraining_context\u001b[0m\u001b[0;34m=\u001b[0m\u001b[0mtraining_context\u001b[0m\u001b[0;34m,\u001b[0m\u001b[0;34m\u001b[0m\u001b[0m\n\u001b[0;32m--> 342\u001b[0;31m                 total_epochs=epochs)\n\u001b[0m\u001b[1;32m    343\u001b[0m             \u001b[0mcbks\u001b[0m\u001b[0;34m.\u001b[0m\u001b[0mmake_logs\u001b[0m\u001b[0;34m(\u001b[0m\u001b[0mmodel\u001b[0m\u001b[0;34m,\u001b[0m \u001b[0mepoch_logs\u001b[0m\u001b[0;34m,\u001b[0m \u001b[0mtraining_result\u001b[0m\u001b[0;34m,\u001b[0m \u001b[0mModeKeys\u001b[0m\u001b[0;34m.\u001b[0m\u001b[0mTRAIN\u001b[0m\u001b[0;34m)\u001b[0m\u001b[0;34m\u001b[0m\u001b[0m\n\u001b[1;32m    344\u001b[0m \u001b[0;34m\u001b[0m\u001b[0m\n",
      "\u001b[0;32m~/anaconda3/lib/python3.6/site-packages/tensorflow_core/python/keras/engine/training_v2.py\u001b[0m in \u001b[0;36mrun_one_epoch\u001b[0;34m(model, iterator, execution_function, dataset_size, batch_size, strategy, steps_per_epoch, num_samples, mode, training_context, total_epochs)\u001b[0m\n\u001b[1;32m    126\u001b[0m         step=step, mode=mode, size=current_batch_size) as batch_logs:\n\u001b[1;32m    127\u001b[0m       \u001b[0;32mtry\u001b[0m\u001b[0;34m:\u001b[0m\u001b[0;34m\u001b[0m\u001b[0m\n\u001b[0;32m--> 128\u001b[0;31m         \u001b[0mbatch_outs\u001b[0m \u001b[0;34m=\u001b[0m \u001b[0mexecution_function\u001b[0m\u001b[0;34m(\u001b[0m\u001b[0miterator\u001b[0m\u001b[0;34m)\u001b[0m\u001b[0;34m\u001b[0m\u001b[0m\n\u001b[0m\u001b[1;32m    129\u001b[0m       \u001b[0;32mexcept\u001b[0m \u001b[0;34m(\u001b[0m\u001b[0mStopIteration\u001b[0m\u001b[0;34m,\u001b[0m \u001b[0merrors\u001b[0m\u001b[0;34m.\u001b[0m\u001b[0mOutOfRangeError\u001b[0m\u001b[0;34m)\u001b[0m\u001b[0;34m:\u001b[0m\u001b[0;34m\u001b[0m\u001b[0m\n\u001b[1;32m    130\u001b[0m         \u001b[0;31m# TODO(kaftan): File bug about tf function and errors.OutOfRangeError?\u001b[0m\u001b[0;34m\u001b[0m\u001b[0;34m\u001b[0m\u001b[0m\n",
      "\u001b[0;32m~/anaconda3/lib/python3.6/site-packages/tensorflow_core/python/keras/engine/training_v2_utils.py\u001b[0m in \u001b[0;36mexecution_function\u001b[0;34m(input_fn)\u001b[0m\n\u001b[1;32m     96\u001b[0m     \u001b[0;31m# `numpy` translates Tensors to values in Eager mode.\u001b[0m\u001b[0;34m\u001b[0m\u001b[0;34m\u001b[0m\u001b[0m\n\u001b[1;32m     97\u001b[0m     return nest.map_structure(_non_none_constant_value,\n\u001b[0;32m---> 98\u001b[0;31m                               distributed_function(input_fn))\n\u001b[0m\u001b[1;32m     99\u001b[0m \u001b[0;34m\u001b[0m\u001b[0m\n\u001b[1;32m    100\u001b[0m   \u001b[0;32mreturn\u001b[0m \u001b[0mexecution_function\u001b[0m\u001b[0;34m\u001b[0m\u001b[0m\n",
      "\u001b[0;32m~/anaconda3/lib/python3.6/site-packages/tensorflow_core/python/eager/def_function.py\u001b[0m in \u001b[0;36m__call__\u001b[0;34m(self, *args, **kwds)\u001b[0m\n\u001b[1;32m    566\u001b[0m         \u001b[0mxla_context\u001b[0m\u001b[0;34m.\u001b[0m\u001b[0mExit\u001b[0m\u001b[0;34m(\u001b[0m\u001b[0;34m)\u001b[0m\u001b[0;34m\u001b[0m\u001b[0m\n\u001b[1;32m    567\u001b[0m     \u001b[0;32melse\u001b[0m\u001b[0;34m:\u001b[0m\u001b[0;34m\u001b[0m\u001b[0m\n\u001b[0;32m--> 568\u001b[0;31m       \u001b[0mresult\u001b[0m \u001b[0;34m=\u001b[0m \u001b[0mself\u001b[0m\u001b[0;34m.\u001b[0m\u001b[0m_call\u001b[0m\u001b[0;34m(\u001b[0m\u001b[0;34m*\u001b[0m\u001b[0margs\u001b[0m\u001b[0;34m,\u001b[0m \u001b[0;34m**\u001b[0m\u001b[0mkwds\u001b[0m\u001b[0;34m)\u001b[0m\u001b[0;34m\u001b[0m\u001b[0m\n\u001b[0m\u001b[1;32m    569\u001b[0m \u001b[0;34m\u001b[0m\u001b[0m\n\u001b[1;32m    570\u001b[0m     \u001b[0;32mif\u001b[0m \u001b[0mtracing_count\u001b[0m \u001b[0;34m==\u001b[0m \u001b[0mself\u001b[0m\u001b[0;34m.\u001b[0m\u001b[0m_get_tracing_count\u001b[0m\u001b[0;34m(\u001b[0m\u001b[0;34m)\u001b[0m\u001b[0;34m:\u001b[0m\u001b[0;34m\u001b[0m\u001b[0m\n",
      "\u001b[0;32m~/anaconda3/lib/python3.6/site-packages/tensorflow_core/python/eager/def_function.py\u001b[0m in \u001b[0;36m_call\u001b[0;34m(self, *args, **kwds)\u001b[0m\n\u001b[1;32m    597\u001b[0m       \u001b[0;31m# In this case we have created variables on the first call, so we run the\u001b[0m\u001b[0;34m\u001b[0m\u001b[0;34m\u001b[0m\u001b[0m\n\u001b[1;32m    598\u001b[0m       \u001b[0;31m# defunned version which is guaranteed to never create variables.\u001b[0m\u001b[0;34m\u001b[0m\u001b[0;34m\u001b[0m\u001b[0m\n\u001b[0;32m--> 599\u001b[0;31m       \u001b[0;32mreturn\u001b[0m \u001b[0mself\u001b[0m\u001b[0;34m.\u001b[0m\u001b[0m_stateless_fn\u001b[0m\u001b[0;34m(\u001b[0m\u001b[0;34m*\u001b[0m\u001b[0margs\u001b[0m\u001b[0;34m,\u001b[0m \u001b[0;34m**\u001b[0m\u001b[0mkwds\u001b[0m\u001b[0;34m)\u001b[0m  \u001b[0;31m# pylint: disable=not-callable\u001b[0m\u001b[0;34m\u001b[0m\u001b[0m\n\u001b[0m\u001b[1;32m    600\u001b[0m     \u001b[0;32melif\u001b[0m \u001b[0mself\u001b[0m\u001b[0;34m.\u001b[0m\u001b[0m_stateful_fn\u001b[0m \u001b[0;32mis\u001b[0m \u001b[0;32mnot\u001b[0m \u001b[0;32mNone\u001b[0m\u001b[0;34m:\u001b[0m\u001b[0;34m\u001b[0m\u001b[0m\n\u001b[1;32m    601\u001b[0m       \u001b[0;31m# Release the lock early so that multiple threads can perform the call\u001b[0m\u001b[0;34m\u001b[0m\u001b[0;34m\u001b[0m\u001b[0m\n",
      "\u001b[0;32m~/anaconda3/lib/python3.6/site-packages/tensorflow_core/python/eager/function.py\u001b[0m in \u001b[0;36m__call__\u001b[0;34m(self, *args, **kwargs)\u001b[0m\n\u001b[1;32m   2361\u001b[0m     \u001b[0;32mwith\u001b[0m \u001b[0mself\u001b[0m\u001b[0;34m.\u001b[0m\u001b[0m_lock\u001b[0m\u001b[0;34m:\u001b[0m\u001b[0;34m\u001b[0m\u001b[0m\n\u001b[1;32m   2362\u001b[0m       \u001b[0mgraph_function\u001b[0m\u001b[0;34m,\u001b[0m \u001b[0margs\u001b[0m\u001b[0;34m,\u001b[0m \u001b[0mkwargs\u001b[0m \u001b[0;34m=\u001b[0m \u001b[0mself\u001b[0m\u001b[0;34m.\u001b[0m\u001b[0m_maybe_define_function\u001b[0m\u001b[0;34m(\u001b[0m\u001b[0margs\u001b[0m\u001b[0;34m,\u001b[0m \u001b[0mkwargs\u001b[0m\u001b[0;34m)\u001b[0m\u001b[0;34m\u001b[0m\u001b[0m\n\u001b[0;32m-> 2363\u001b[0;31m     \u001b[0;32mreturn\u001b[0m \u001b[0mgraph_function\u001b[0m\u001b[0;34m.\u001b[0m\u001b[0m_filtered_call\u001b[0m\u001b[0;34m(\u001b[0m\u001b[0margs\u001b[0m\u001b[0;34m,\u001b[0m \u001b[0mkwargs\u001b[0m\u001b[0;34m)\u001b[0m  \u001b[0;31m# pylint: disable=protected-access\u001b[0m\u001b[0;34m\u001b[0m\u001b[0m\n\u001b[0m\u001b[1;32m   2364\u001b[0m \u001b[0;34m\u001b[0m\u001b[0m\n\u001b[1;32m   2365\u001b[0m   \u001b[0;34m@\u001b[0m\u001b[0mproperty\u001b[0m\u001b[0;34m\u001b[0m\u001b[0m\n",
      "\u001b[0;32m~/anaconda3/lib/python3.6/site-packages/tensorflow_core/python/eager/function.py\u001b[0m in \u001b[0;36m_filtered_call\u001b[0;34m(self, args, kwargs)\u001b[0m\n\u001b[1;32m   1609\u001b[0m          if isinstance(t, (ops.Tensor,\n\u001b[1;32m   1610\u001b[0m                            resource_variable_ops.BaseResourceVariable))),\n\u001b[0;32m-> 1611\u001b[0;31m         self.captured_inputs)\n\u001b[0m\u001b[1;32m   1612\u001b[0m \u001b[0;34m\u001b[0m\u001b[0m\n\u001b[1;32m   1613\u001b[0m   \u001b[0;32mdef\u001b[0m \u001b[0m_call_flat\u001b[0m\u001b[0;34m(\u001b[0m\u001b[0mself\u001b[0m\u001b[0;34m,\u001b[0m \u001b[0margs\u001b[0m\u001b[0;34m,\u001b[0m \u001b[0mcaptured_inputs\u001b[0m\u001b[0;34m,\u001b[0m \u001b[0mcancellation_manager\u001b[0m\u001b[0;34m=\u001b[0m\u001b[0;32mNone\u001b[0m\u001b[0;34m)\u001b[0m\u001b[0;34m:\u001b[0m\u001b[0;34m\u001b[0m\u001b[0m\n",
      "\u001b[0;32m~/anaconda3/lib/python3.6/site-packages/tensorflow_core/python/eager/function.py\u001b[0m in \u001b[0;36m_call_flat\u001b[0;34m(self, args, captured_inputs, cancellation_manager)\u001b[0m\n\u001b[1;32m   1690\u001b[0m       \u001b[0;31m# No tape is watching; skip to running the function.\u001b[0m\u001b[0;34m\u001b[0m\u001b[0;34m\u001b[0m\u001b[0m\n\u001b[1;32m   1691\u001b[0m       return self._build_call_outputs(self._inference_function.call(\n\u001b[0;32m-> 1692\u001b[0;31m           ctx, args, cancellation_manager=cancellation_manager))\n\u001b[0m\u001b[1;32m   1693\u001b[0m     forward_backward = self._select_forward_and_backward_functions(\n\u001b[1;32m   1694\u001b[0m         \u001b[0margs\u001b[0m\u001b[0;34m,\u001b[0m\u001b[0;34m\u001b[0m\u001b[0m\n",
      "\u001b[0;32m~/anaconda3/lib/python3.6/site-packages/tensorflow_core/python/eager/function.py\u001b[0m in \u001b[0;36mcall\u001b[0;34m(self, ctx, args, cancellation_manager)\u001b[0m\n\u001b[1;32m    543\u001b[0m               \u001b[0minputs\u001b[0m\u001b[0;34m=\u001b[0m\u001b[0margs\u001b[0m\u001b[0;34m,\u001b[0m\u001b[0;34m\u001b[0m\u001b[0m\n\u001b[1;32m    544\u001b[0m               \u001b[0mattrs\u001b[0m\u001b[0;34m=\u001b[0m\u001b[0;34m(\u001b[0m\u001b[0;34m\"executor_type\"\u001b[0m\u001b[0;34m,\u001b[0m \u001b[0mexecutor_type\u001b[0m\u001b[0;34m,\u001b[0m \u001b[0;34m\"config_proto\"\u001b[0m\u001b[0;34m,\u001b[0m \u001b[0mconfig\u001b[0m\u001b[0;34m)\u001b[0m\u001b[0;34m,\u001b[0m\u001b[0;34m\u001b[0m\u001b[0m\n\u001b[0;32m--> 545\u001b[0;31m               ctx=ctx)\n\u001b[0m\u001b[1;32m    546\u001b[0m         \u001b[0;32melse\u001b[0m\u001b[0;34m:\u001b[0m\u001b[0;34m\u001b[0m\u001b[0m\n\u001b[1;32m    547\u001b[0m           outputs = execute.execute_with_cancellation(\n",
      "\u001b[0;32m~/anaconda3/lib/python3.6/site-packages/tensorflow_core/python/eager/execute.py\u001b[0m in \u001b[0;36mquick_execute\u001b[0;34m(op_name, num_outputs, inputs, attrs, ctx, name)\u001b[0m\n\u001b[1;32m     59\u001b[0m     tensors = pywrap_tensorflow.TFE_Py_Execute(ctx._handle, device_name,\n\u001b[1;32m     60\u001b[0m                                                \u001b[0mop_name\u001b[0m\u001b[0;34m,\u001b[0m \u001b[0minputs\u001b[0m\u001b[0;34m,\u001b[0m \u001b[0mattrs\u001b[0m\u001b[0;34m,\u001b[0m\u001b[0;34m\u001b[0m\u001b[0m\n\u001b[0;32m---> 61\u001b[0;31m                                                num_outputs)\n\u001b[0m\u001b[1;32m     62\u001b[0m   \u001b[0;32mexcept\u001b[0m \u001b[0mcore\u001b[0m\u001b[0;34m.\u001b[0m\u001b[0m_NotOkStatusException\u001b[0m \u001b[0;32mas\u001b[0m \u001b[0me\u001b[0m\u001b[0;34m:\u001b[0m\u001b[0;34m\u001b[0m\u001b[0m\n\u001b[1;32m     63\u001b[0m     \u001b[0;32mif\u001b[0m \u001b[0mname\u001b[0m \u001b[0;32mis\u001b[0m \u001b[0;32mnot\u001b[0m \u001b[0;32mNone\u001b[0m\u001b[0;34m:\u001b[0m\u001b[0;34m\u001b[0m\u001b[0m\n",
      "\u001b[0;31mKeyboardInterrupt\u001b[0m: "
     ]
    }
   ],
   "source": [
    "# model input coordinates\n",
    "\n",
    "optimizer = tf.keras.optimizers.Adam(lr=0.01)\n",
    "model.compile(optimizer, 'mean_squared_error', metrics=['accuracy'])\n",
    "model.fit(train_onehot,xy_coord_train, batch_size = 32, epochs = 20,\n",
    "          verbose = 1, validation_data = (test_onehot, xy_coord_test))"
   ]
  },
  {
   "cell_type": "code",
   "execution_count": 10,
   "metadata": {},
   "outputs": [],
   "source": [
    "model.load_weights(\"best_reg_model100_02.hdf5\")"
   ]
  },
  {
   "cell_type": "code",
   "execution_count": 10,
   "metadata": {},
   "outputs": [],
   "source": [
    "img_01 = test_onehot[0]\n",
    "img_02 = test_onehot[1]*0.8\n",
    "img_03 = test_onehot[2]\n",
    "img_04 = test_onehot[3]*0.5\n",
    "img_05 = test_onehot[4]*0.6\n",
    "img_total = img_01 + img_02 + img_03 + img_04 + img_05"
   ]
  },
  {
   "cell_type": "code",
   "execution_count": 11,
   "metadata": {},
   "outputs": [
    {
     "data": {
      "text/plain": [
       "<matplotlib.image.AxesImage at 0x7fe0d0124ef0>"
      ]
     },
     "execution_count": 11,
     "metadata": {},
     "output_type": "execute_result"
    },
    {
     "data": {
      "image/png": "[encoded data removed]",
      "text/plain": [
       "<Figure size 432x288 with 1 Axes>"
      ]
     },
     "metadata": {},
     "output_type": "display_data"
    }
   ],
   "source": [
    "plt.imshow(np.squeeze(img_total), cmap = 'gray')"
   ]
  },
  {
   "cell_type": "code",
   "execution_count": 12,
   "metadata": {},
   "outputs": [
    {
     "name": "stdout",
     "output_type": "stream",
     "text": [
      "[[[[10.844441 10.983469]]]]\n",
      "[[[[58.88056   3.960276]]]]\n",
      "[[[[22.7025  70.93554]]]]\n",
      "[[[[ 4.087727 27.200937]]]]\n",
      "[[[[ 4.087727 47.22127 ]]]]\n",
      "[[[[58.88056 70.93554]]]]\n"
     ]
    }
   ],
   "source": [
    "preds_01 = model.predict(tf.expand_dims(img_01, 0))\n",
    "preds_02 = model.predict(tf.expand_dims(img_02, 0))\n",
    "preds_03 = model.predict(tf.expand_dims(img_03, 0))\n",
    "preds_04 = model.predict(tf.expand_dims(img_04, 0))\n",
    "preds_05 = model.predict(tf.expand_dims(img_05, 0))\n",
    "preds_total = model.predict(tf.expand_dims(img_total, 0))\n",
    "print(preds_01)\n",
    "print(preds_02)\n",
    "print(preds_03)\n",
    "print(preds_04)\n",
    "print(preds_05)\n",
    "print(preds_total)"
   ]
  },
  {
   "cell_type": "code",
   "execution_count": 14,
   "metadata": {},
   "outputs": [
    {
     "name": "stdout",
     "output_type": "stream",
     "text": [
      "True coordinates: [[[11. 11.]]]\n",
      "Predicted coordinates: [[[10.844441 10.983469]]]\n",
      "Error: 0.15643449127674103\n"
     ]
    },
    {
     "data": {
      "image/png": "[encoded data removed]",
      "text/plain": [
       "<Figure size 432x288 with 1 Axes>"
      ]
     },
     "metadata": {},
     "output_type": "display_data"
    },
    {
     "name": "stdout",
     "output_type": "stream",
     "text": [
      "\n",
      "True coordinates: [[[79.  6.]]]\n",
      "Predicted coordinates: [[[79.03272    5.9444633]]]\n",
      "Error: 0.06445999443531036\n"
     ]
    },
    {
     "data": {
      "image/png": "[encoded data removed]",
      "text/plain": [
       "<Figure size 432x288 with 1 Axes>"
      ]
     },
     "metadata": {},
     "output_type": "display_data"
    },
    {
     "name": "stdout",
     "output_type": "stream",
     "text": [
      "\n",
      "True coordinates: [[[23. 71.]]]\n",
      "Predicted coordinates: [[[22.7025  70.93554]]]\n",
      "Error: 0.30440402030944824\n"
     ]
    },
    {
     "data": {
      "image/png": "[encoded data removed]",
      "text/plain": [
       "<Figure size 432x288 with 1 Axes>"
      ]
     },
     "metadata": {},
     "output_type": "display_data"
    },
    {
     "name": "stdout",
     "output_type": "stream",
     "text": [
      "\n",
      "True coordinates: [[[14. 73.]]]\n",
      "Predicted coordinates: [[[13.703874 72.9961  ]]]\n",
      "Error: 0.2961520254611969\n"
     ]
    },
    {
     "data": {
      "image/png": "[encoded data removed]",
      "text/plain": [
       "<Figure size 432x288 with 1 Axes>"
      ]
     },
     "metadata": {},
     "output_type": "display_data"
    },
    {
     "name": "stdout",
     "output_type": "stream",
     "text": [
      "\n",
      "True coordinates: [[[24. 80.]]]\n",
      "Predicted coordinates: [[[23.708925 79.91715 ]]]\n",
      "Error: 0.30263546109199524\n"
     ]
    },
    {
     "data": {
      "image/png": "[encoded data removed]",
      "text/plain": [
       "<Figure size 432x288 with 1 Axes>"
      ]
     },
     "metadata": {},
     "output_type": "display_data"
    },
    {
     "name": "stdout",
     "output_type": "stream",
     "text": [
      "exit\n"
     ]
    }
   ],
   "source": [
    "#Visualize test set\n",
    "preds = model.predict(test_onehot)\n",
    "\n",
    "def error(true_coord, pred_coord, i):\n",
    "    x_dif = true_coord[i,0,0,0] - pred_coord[i,0,0,0]\n",
    "    y_dif = true_coord[i,0,0,1] - pred_coord[i,0,0,1]\n",
    "    return np.sqrt(np.square(x_dif)+np.square(y_dif))\n",
    "\n",
    "for i in range(len(xy_coord_test)):\n",
    "    print('True coordinates: {}'.format(xy_coord_test[i]))\n",
    "    print('Predicted coordinates: {}'.format(preds[i]))\n",
    "    print('Error: {}' .format(error(xy_coord_test, preds, i)))\n",
    "    plt.imshow(np.reshape(test_onehot[i], (100, 100)), cmap='gray')\n",
    "    plt.show()\n",
    "    \n",
    "    if input() == 'exit':\n",
    "        break"
   ]
  },
  {
   "cell_type": "code",
   "execution_count": 10,
   "metadata": {
    "scrolled": false
   },
   "outputs": [
    {
     "name": "stdout",
     "output_type": "stream",
     "text": [
      "True coordinates: [[[11. 11.]]]\n",
      "Predicted coordinates: [[[10.690565 10.949129]]]\n",
      "Error: 0.31358858942985535\n"
     ]
    },
    {
     "data": {
      "image/png": "[encoded data removed]",
      "text/plain": [
       "<Figure size 432x288 with 1 Axes>"
      ]
     },
     "metadata": {},
     "output_type": "display_data"
    },
    {
     "name": "stdout",
     "output_type": "stream",
     "text": [
      "\n",
      "True coordinates: [[[79.  6.]]]\n",
      "Predicted coordinates: [[[78.80525  6.0622 ]]]\n",
      "Error: 0.20443972945213318\n"
     ]
    },
    {
     "data": {
      "image/png": "[encoded data removed]",
      "text/plain": [
       "<Figure size 432x288 with 1 Axes>"
      ]
     },
     "metadata": {},
     "output_type": "display_data"
    },
    {
     "name": "stdout",
     "output_type": "stream",
     "text": [
      "exit\n"
     ]
    }
   ],
   "source": [
    "#Visualize test set\n",
    "preds = model.predict(test_onehot)\n",
    "\n",
    "def error(true_coord, pred_coord, i):\n",
    "    x_dif = true_coord[i,0,0,0] - pred_coord[i,0,0,0]\n",
    "    y_dif = true_coord[i,0,0,1] - pred_coord[i,0,0,1]\n",
    "    return np.sqrt(np.square(x_dif)+np.square(y_dif))\n",
    "\n",
    "for i in range(len(xy_coord_test)):\n",
    "    print('True coordinates: {}'.format(xy_coord_test[i]))\n",
    "    print('Predicted coordinates: {}'.format(preds[i]))\n",
    "    print('Error: {}' .format(error(xy_coord_test, preds, i)))\n",
    "    plt.imshow(np.reshape(test_onehot[i], (100, 100)), cmap='gray')\n",
    "    plt.show()\n",
    "    \n",
    "    if input() == 'exit':\n",
    "        break"
   ]
  },
  {
   "cell_type": "code",
   "execution_count": 11,
   "metadata": {},
   "outputs": [],
   "source": [
    "# model.save_weights(\"best_reg_model100_02.hdf5\")"
   ]
  },
  {
   "cell_type": "markdown",
   "metadata": {},
   "source": [
    "# Normal Covnet Model"
   ]
  },
  {
   "cell_type": "code",
   "execution_count": 10,
   "metadata": {},
   "outputs": [],
   "source": [
    "covnet = Sequential([\n",
    "    Conv2D(filters = 8, kernel_size = 1, strides = 1, padding = \"same\", activation = 'relu'), \n",
    "    Conv2D(filters = 8, kernel_size = 1, strides = 1, padding = \"same\", activation = 'relu'), \n",
    "    Conv2D(filters = 8, kernel_size = 1, strides = 1, padding = \"same\", activation = 'relu'), \n",
    "    Conv2D(filters = 8, kernel_size = 3, strides = 1, padding = \"same\", activation = 'relu'), \n",
    "    Conv2D(filters = 2, kernel_size = 3, strides = 1, padding = \"same\", activation = 'relu'), \n",
    "    MaxPooling2D(pool_size = 64, strides = 64, padding = 'valid'),\n",
    "    #output shape(batch_size, 1, 1, 2)\n",
    "])\n",
    "\n",
    "covnet.build((None, 64,64, 1))"
   ]
  },
  {
   "cell_type": "code",
   "execution_count": null,
   "metadata": {},
   "outputs": [],
   "source": [
    "optimizer = tf.keras.optimizers.Adam(lr=0.01)\n",
    "covnet.compile(optimizer, 'mean_squared_error', metrics=['accuracy'])\n",
    "covnet.fit(train_onehot,xy_coord_train, batch_size = 32, epochs = 20,\n",
    "          verbose = 1, validation_data = (test_onehot, xy_coord_test))"
   ]
  },
  {
   "cell_type": "code",
   "execution_count": 12,
   "metadata": {},
   "outputs": [
    {
     "name": "stdout",
     "output_type": "stream",
     "text": [
      "True coordinates: [[[25. 31.]]]\n",
      "Predicted coordinates: [[[30.058958 30.397638]]]\n",
      "Error: 5.094692707061768\n"
     ]
    },
    {
     "data": {
      "image/png": "[encoded data removed]",
      "text/plain": [
       "<Figure size 432x288 with 1 Axes>"
      ]
     },
     "metadata": {},
     "output_type": "display_data"
    },
    {
     "name": "stdout",
     "output_type": "stream",
     "text": [
      "\n",
      "True coordinates: [[[31. 17.]]]\n",
      "Predicted coordinates: [[[30.058958 30.397638]]]\n",
      "Error: 13.430646896362305\n"
     ]
    },
    {
     "data": {
      "image/png": "[encoded data removed]",
      "text/plain": [
       "<Figure size 432x288 with 1 Axes>"
      ]
     },
     "metadata": {},
     "output_type": "display_data"
    },
    {
     "name": "stdout",
     "output_type": "stream",
     "text": [
      "exit\n"
     ]
    }
   ],
   "source": [
    "preds = covnet.predict(test_onehot)\n",
    "\n",
    "def error(true_coord, pred_coord, i):\n",
    "    x_dif = true_coord[i,0,0,0] - pred_coord[i,0,0,0]\n",
    "    y_dif = true_coord[i,0,0,1] - pred_coord[i,0,0,1]\n",
    "    return np.sqrt(np.square(x_dif)+np.square(y_dif))\n",
    "\n",
    "for i in range(len(xy_coord_test)):\n",
    "    print('True coordinates: {}'.format(xy_coord_test[i]))\n",
    "    print('Predicted coordinates: {}'.format(preds[i]))\n",
    "    print('Error: {}' .format(error(xy_coord_test, preds, i)))\n",
    "    plt.imshow(np.reshape(test_onehot[i], (64, 64)), cmap='gray')\n",
    "    plt.show()\n",
    "    \n",
    "    if input() == 'exit':\n",
    "        break"
   ]
  }
 ],
 "metadata": {
  "kernelspec": {
   "display_name": "Python 3",
   "language": "python",
   "name": "python3"
  },
  "language_info": {
   "codemirror_mode": {
    "name": "ipython",
    "version": 3
   },
   "file_extension": ".py",
   "mimetype": "text/x-python",
   "name": "python",
   "nbconvert_exporter": "python",
   "pygments_lexer": "ipython3",
   "version": "3.6.6"
  }
 },
 "nbformat": 4,
 "nbformat_minor": 2
}
