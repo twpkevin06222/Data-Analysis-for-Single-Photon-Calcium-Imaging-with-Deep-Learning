{
 "cells": [
  {
   "cell_type": "markdown",
   "metadata": {},
   "source": [
    "# Notes:"
   ]
  },
  {
   "cell_type": "markdown",
   "metadata": {},
   "source": [
    "- This implementation is a replicate of coordconv uniform dataset classification task from the paper \"An intriguing failing of convolutional neural networks and the CoordConv solution\" by R.Liu et al. (2018) from Uber AI. \n",
    "\n",
    "- The model takes coordinates as an input"
   ]
  },
  {
   "cell_type": "code",
   "execution_count": 1,
   "metadata": {},
   "outputs": [],
   "source": [
    "#To Do\n",
    "import os\n",
    "import sys\n",
    "import numpy as np\n",
    "import matplotlib.pyplot as plt\n",
    "import tensorflow as tf"
   ]
  },
  {
   "cell_type": "code",
   "execution_count": 2,
   "metadata": {},
   "outputs": [],
   "source": [
    "#retrieve data from folder\n",
    "\n",
    "#references: https://github.com/titu1994/keras-coordconv/blob/master/experiments/train_uniform_classifier.py\n",
    "train_onehot = np.load('coordconv_data/train_onehot.npy').astype('float32')\n",
    "test_onehot = np.load('coordconv_data/test_onehot.npy').astype('float32')\n",
    "\n",
    "#retrieve coordinates\n",
    "coord_train = np.where(train_onehot == 1.0)\n",
    "coord_test = np.where(test_onehot == 1.0)\n",
    "\n",
    "#Training coords \n",
    "x_coord_train = coord_train[1]\n",
    "y_coord_train = coord_train[2]\n",
    "\n",
    "#Test coords\n",
    "x_coord_test = coord_test[1]\n",
    "y_coord_test = coord_test[2]"
   ]
  },
  {
   "cell_type": "code",
   "execution_count": 3,
   "metadata": {},
   "outputs": [
    {
     "data": {
      "text/plain": [
       "(2508, 64, 64, 1)"
      ]
     },
     "execution_count": 3,
     "metadata": {},
     "output_type": "execute_result"
    }
   ],
   "source": [
    "train_onehot.shape"
   ]
  },
  {
   "cell_type": "code",
   "execution_count": 4,
   "metadata": {},
   "outputs": [],
   "source": [
    "train_set = np.zeros((len(x_coord_train), 1, 1, 2), dtype='float32')\n",
    "test_set = np.zeros((len(x_coord_test), 1, 1, 2), dtype='float32')\n",
    "\n",
    "for i ,(x, y) in enumerate(zip(x_coord_train, y_coord_train)):\n",
    "    train_set[i, 0, 0, 0] = x #1st channel x coord \n",
    "    train_set[i, 0, 0, 1] = y #2nd channel y coord\n",
    "\n",
    "for i ,(x, y) in enumerate(zip(x_coord_test, y_coord_test)):\n",
    "    test_set[i, 0, 0, 0] = x #1st channel x coord \n",
    "    test_set[i, 0, 0, 1] = y #2nd channel y coord    \n",
    "    \n",
    "train_set = np.tile(train_set, [1, 64, 64, 1])\n",
    "#train_set.shape[0] (64, 64, 2) => return: 1st channel, 64 numbers of same x_coord ..\n",
    "test_set = np.tile(test_set, [1, 64, 64, 1])"
   ]
  },
  {
   "cell_type": "code",
   "execution_count": 5,
   "metadata": {
    "scrolled": true
   },
   "outputs": [
    {
     "name": "stdout",
     "output_type": "stream",
     "text": [
      "Train set : shape: (2508, 64, 64, 2), max value:0.9365079402923584, min value: 0.0634920671582222\n",
      "Test set : : shape: (628, 64, 64, 2), max value:0.9365079402923584, min value: 0.0634920671582222 \n"
     ]
    }
   ],
   "source": [
    "#normalizing dataset\n",
    "\n",
    "train_set /= (64. - 1.) \n",
    "test_set /= (64. - 1.) \n",
    "print('Train set : shape: {}, max value:{}, min value: {}'. format(train_set.shape, train_set.max(), train_set.min()))\n",
    "print('Test set : : shape: {}, max value:{}, min value: {} '.format(test_set.shape, test_set.max(), test_set.min()))"
   ]
  },
  {
   "cell_type": "code",
   "execution_count": 6,
   "metadata": {
    "scrolled": true
   },
   "outputs": [
    {
     "data": {
      "image/png": "[encoded data removed]",
      "text/plain": [
       "<Figure size 432x288 with 1 Axes>"
      ]
     },
     "metadata": {},
     "output_type": "display_data"
    },
    {
     "data": {
      "image/png": "[encoded data removed]",
      "text/plain": [
       "<Figure size 432x288 with 1 Axes>"
      ]
     },
     "metadata": {},
     "output_type": "display_data"
    }
   ],
   "source": [
    "# Plot dataset\n",
    "\n",
    "plt.imshow(np.sum(train_onehot, axis=0)[:, :, 0], cmap='gray')\n",
    "plt.title('Train One-hot dataset')\n",
    "plt.show()\n",
    "plt.imshow(np.sum(test_onehot, axis=0)[:, :, 0], cmap='gray')\n",
    "plt.title('Test One-hot dataset')\n",
    "plt.show()"
   ]
  },
  {
   "cell_type": "code",
   "execution_count": 9,
   "metadata": {
    "scrolled": false
   },
   "outputs": [
    {
     "name": "stdout",
     "output_type": "stream",
     "text": [
      "Training data set label #0, x coordinate: \n"
     ]
    },
    {
     "data": {
      "image/png": "[encoded data removed]",
      "text/plain": [
       "<Figure size 432x288 with 1 Axes>"
      ]
     },
     "metadata": {},
     "output_type": "display_data"
    },
    {
     "name": "stdout",
     "output_type": "stream",
     "text": [
      "exit\n"
     ]
    }
   ],
   "source": [
    "for i in range(len(train_onehot)):\n",
    "    plt.imshow(train_onehot[i, :, :, 0], cmap='gray')\n",
    "    print(\"Training data set label #{}, x coordinate: \".format(i))\n",
    "    plt.show()\n",
    "\n",
    "    if input()== 'exit':\n",
    "        break"
   ]
  },
  {
   "cell_type": "code",
   "execution_count": 7,
   "metadata": {},
   "outputs": [],
   "source": [
    "#flatten one hot labels for final layer\n",
    "train_onehot = train_onehot.reshape((-1, 64 * 64)) #shape(batch, 64*64)\n",
    "test_onehot = test_onehot.reshape((-1, 64 * 64))"
   ]
  },
  {
   "cell_type": "code",
   "execution_count": 12,
   "metadata": {},
   "outputs": [],
   "source": [
    "#model \n",
    "from tensorflow.keras import Model, Sequential\n",
    "from tensorflow.keras.layers import Conv2D, Flatten, Dense, Softmax\n",
    "from coord_conv import CoordConv\n",
    "\n",
    "model = Sequential([\n",
    "    CoordConv(x_dim = 64, y_dim = 64, with_r = False, filters = 64, \n",
    "              kernel_size = 1, padding='same', activation='relu'),\n",
    "    Conv2D(filters = 32, kernel_size = 1, strides = 1, padding = \"same\", activation = 'relu'), \n",
    "    Conv2D(filters = 32, kernel_size = 1, strides = 1, padding = \"same\", activation = 'relu'), \n",
    "    Conv2D(filters = 64, kernel_size = 1, strides = 1, padding = \"same\", activation = 'relu'), \n",
    "    Conv2D(filters = 64, kernel_size = 1, strides = 1, padding = \"same\", activation = 'relu'), \n",
    "    Conv2D(filters = 1, kernel_size = 1, strides = 1, padding = \"same\" ),\n",
    "    Flatten(),\n",
    "    Softmax(axis = -1),\n",
    "])\n",
    "\n",
    "model.build((None, 64,64, 2))"
   ]
  },
  {
   "cell_type": "code",
   "execution_count": 13,
   "metadata": {
    "scrolled": true
   },
   "outputs": [
    {
     "name": "stdout",
     "output_type": "stream",
     "text": [
      "Model: \"sequential_1\"\n",
      "_________________________________________________________________\n",
      "Layer (type)                 Output Shape              Param #   \n",
      "=================================================================\n",
      "coord_conv_1 (CoordConv)     multiple                  320       \n",
      "_________________________________________________________________\n",
      "conv2d_3 (Conv2D)            multiple                  2080      \n",
      "_________________________________________________________________\n",
      "conv2d_4 (Conv2D)            multiple                  1056      \n",
      "_________________________________________________________________\n",
      "conv2d_5 (Conv2D)            multiple                  2112      \n",
      "_________________________________________________________________\n",
      "conv2d_6 (Conv2D)            multiple                  4160      \n",
      "_________________________________________________________________\n",
      "conv2d_7 (Conv2D)            multiple                  65        \n",
      "_________________________________________________________________\n",
      "flatten_1 (Flatten)          multiple                  0         \n",
      "_________________________________________________________________\n",
      "softmax_1 (Softmax)          multiple                  0         \n",
      "=================================================================\n",
      "Total params: 9,793\n",
      "Trainable params: 9,793\n",
      "Non-trainable params: 0\n",
      "_________________________________________________________________\n"
     ]
    }
   ],
   "source": [
    "model.summary()"
   ]
  },
  {
   "cell_type": "code",
   "execution_count": 17,
   "metadata": {},
   "outputs": [],
   "source": [
    "## Alternative implementation with lower level API \n",
    "\n",
    "# BATCH_SIZE = 32\n",
    "# MAX_STEP = 5000\n",
    "# lr = 1e-3\n",
    "\n",
    "# ds_train = tf.data.Dataset.from_tensor_slices((train_set, train_onehot)).shuffle(10000).repeat(10).batch(BATCH_SIZE)\n",
    "\n",
    "# opt = tf.keras.optimizers.Adam(lr)\n",
    "# loss_fn = tf.keras.losses.CategoricalCrossentropy()\n",
    "\n",
    "# train_loss = tf.keras.metrics.Mean()\n",
    "# train_acc = tf.keras.metrics.CategoricalAccuracy()\n",
    "\n",
    "\n",
    "# @tf.function\n",
    "# def train_fn(imgs, lbls):\n",
    "#     with tf.GradientTape() as tape:\n",
    "#         output = model(imgs)\n",
    "#         loss = loss_fn(lbls, output)\n",
    "#     gradients = tape.gradient(loss, model.trainable_variables)\n",
    "#     opt.apply_gradients(zip(gradients, model.trainable_variables))\n",
    "\n",
    "#     train_loss(loss)\n",
    "#     train_acc(lbls, output)\n",
    "\n",
    "\n",
    "# for steps, (img_batch, lbl_batch) in enumerate(ds_train):\n",
    "#     if steps > 5000:\n",
    "#         break\n",
    "\n",
    "#     train_fn(img_batch, lbl_batch)\n",
    "\n",
    "#     Template = 'Step: {}, Loss: {}, Accuracy: {}'\n",
    "\n",
    "#     if not steps % 100:\n",
    "#         print(Template.format(steps, train_loss.result(), train_acc.result()))"
   ]
  },
  {
   "cell_type": "code",
   "execution_count": 14,
   "metadata": {
    "scrolled": true
   },
   "outputs": [
    {
     "name": "stdout",
     "output_type": "stream",
     "text": [
      "Train on 2508 samples, validate on 628 samples\n",
      "Epoch 1/10\n",
      "2508/2508 [==============================] - 2s 721us/sample - loss: 7.3916 - accuracy: 0.0120 - val_loss: 5.1165 - val_accuracy: 0.0860\n",
      "Epoch 2/10\n",
      "2508/2508 [==============================] - 2s 662us/sample - loss: 3.0267 - accuracy: 0.4502 - val_loss: 1.5145 - val_accuracy: 0.8169\n",
      "Epoch 3/10\n",
      "2508/2508 [==============================] - 2s 634us/sample - loss: 0.8534 - accuracy: 0.8708 - val_loss: 0.5508 - val_accuracy: 0.9140\n",
      "Epoch 4/10\n",
      "2508/2508 [==============================] - 2s 602us/sample - loss: 0.1714 - accuracy: 0.9932 - val_loss: 0.0517 - val_accuracy: 1.0000\n",
      "Epoch 5/10\n",
      "2508/2508 [==============================] - 1s 553us/sample - loss: 0.0345 - accuracy: 1.0000 - val_loss: 0.0253 - val_accuracy: 1.0000\n",
      "Epoch 6/10\n",
      "2508/2508 [==============================] - 2s 633us/sample - loss: 0.0190 - accuracy: 1.0000 - val_loss: 0.0140 - val_accuracy: 1.0000\n",
      "Epoch 7/10\n",
      "2508/2508 [==============================] - 1s 525us/sample - loss: 0.0114 - accuracy: 1.0000 - val_loss: 0.0091 - val_accuracy: 1.0000\n",
      "Epoch 8/10\n",
      "2508/2508 [==============================] - 1s 522us/sample - loss: 0.0078 - accuracy: 1.0000 - val_loss: 0.0065 - val_accuracy: 1.0000\n",
      "Epoch 9/10\n",
      "2508/2508 [==============================] - 1s 516us/sample - loss: 0.0057 - accuracy: 1.0000 - val_loss: 0.0049 - val_accuracy: 1.0000\n",
      "Epoch 10/10\n",
      "2508/2508 [==============================] - 1s 547us/sample - loss: 0.0044 - accuracy: 1.0000 - val_loss: 0.0041 - val_accuracy: 1.0000\n"
     ]
    },
    {
     "data": {
      "text/plain": [
       "<tensorflow.python.keras.callbacks.History at 0x7f1e1c458eb8>"
      ]
     },
     "execution_count": 14,
     "metadata": {},
     "output_type": "execute_result"
    }
   ],
   "source": [
    "#model input coordinates\n",
    "\n",
    "optimizer = tf.keras.optimizers.Adam(lr=1e-3)\n",
    "model.compile(optimizer, 'categorical_crossentropy', metrics=['accuracy'])\n",
    "model.fit(train_set, train_onehot, batch_size = 32, epochs = 10,\n",
    "          verbose = 1, validation_data = (test_set, test_onehot))"
   ]
  },
  {
   "cell_type": "code",
   "execution_count": 18,
   "metadata": {
    "scrolled": false
   },
   "outputs": [
    {
     "name": "stdout",
     "output_type": "stream",
     "text": [
      "0.0 0.99987555\n"
     ]
    },
    {
     "data": {
      "image/png": "[encoded data removed]",
      "text/plain": [
       "<Figure size 432x288 with 1 Axes>"
      ]
     },
     "metadata": {},
     "output_type": "display_data"
    },
    {
     "name": "stdout",
     "output_type": "stream",
     "text": [
      "628/628 [==============================] - 0s 126us/sample - loss: 5.8871e-04 - accuracy: 1.0000\n",
      "\n",
      "loss 0.0005887083899805168\n",
      "accuracy 1.0\n"
     ]
    }
   ],
   "source": [
    "#Visualize test set\n",
    "preds = model.predict(test_set)\n",
    "print(np.min(preds), np.max(preds))\n",
    "\n",
    "preds = preds.reshape((-1, 64, 64, 1))\n",
    "\n",
    "plt.imshow(np.sum(preds, axis=0)[:, :, 0], cmap='gray')\n",
    "plt.title('Predictions')\n",
    "plt.show()\n",
    "\n",
    "scores = model.evaluate(test_set, test_onehot, batch_size=128, verbose=1)\n",
    "\n",
    "print()\n",
    "for name, score in zip(model.metrics_names, scores):\n",
    "    print(name, score)"
   ]
  }
 ],
 "metadata": {
  "kernelspec": {
   "display_name": "Python 3",
   "language": "python",
   "name": "python3"
  },
  "language_info": {
   "codemirror_mode": {
    "name": "ipython",
    "version": 3
   },
   "file_extension": ".py",
   "mimetype": "text/x-python",
   "name": "python",
   "nbconvert_exporter": "python",
   "pygments_lexer": "ipython3",
   "version": "3.6.6"
  }
 },
 "nbformat": 4,
 "nbformat_minor": 2
}
