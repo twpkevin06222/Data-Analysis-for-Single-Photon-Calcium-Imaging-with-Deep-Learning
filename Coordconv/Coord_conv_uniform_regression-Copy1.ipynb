{
 "cells": [
  {
   "cell_type": "markdown",
   "metadata": {},
   "source": [
    "# Notes:"
   ]
  },
  {
   "cell_type": "markdown",
   "metadata": {},
   "source": [
    "- This implementation is a replicate of coordconv uniform dataset regression task from the paper \"An intriguing failing of convolutional neural networks and the CoordConv solution\" by R.Liu et al. (2018) from Uber AI. \n",
    "\n",
    "- The model takes onehot as an input, coordinates as output"
   ]
  },
  {
   "cell_type": "code",
   "execution_count": 1,
   "metadata": {},
   "outputs": [],
   "source": [
    "import os\n",
    "import sys\n",
    "import numpy as np\n",
    "import matplotlib.pyplot as plt\n",
    "%matplotlib inline\n",
    "import tensorflow as tf"
   ]
  },
  {
   "cell_type": "code",
   "execution_count": 2,
   "metadata": {},
   "outputs": [],
   "source": [
    "#retrieve data from folder\n",
    "\n",
    "#references: https://github.com/titu1994/keras-coordconv/blob/master/experiments/train_uniform_classifier.py\n",
    "train_onehot = np.load('coordconv_data/train_onehot.npy').astype('float32')\n",
    "test_onehot = np.load('coordconv_data/test_onehot.npy').astype('float32')\n",
    "\n",
    "#retrieve coordinates\n",
    "coord_train = np.where(train_onehot == 1.0)\n",
    "coord_test = np.where(test_onehot == 1.0)\n",
    "\n",
    "#Training coords \n",
    "x_coord_train = coord_train[1]\n",
    "y_coord_train = coord_train[2]\n",
    "\n",
    "#Test coords\n",
    "x_coord_test = coord_test[1]\n",
    "y_coord_test = coord_test[2]"
   ]
  },
  {
   "cell_type": "code",
   "execution_count": 3,
   "metadata": {},
   "outputs": [],
   "source": [
    "xy_coord_train = np.zeros((len(x_coord_train), 1, 1, 2), dtype='float32')\n",
    "xy_coord_test = np.zeros((len(x_coord_test), 1, 1, 2), dtype='float32')\n",
    "\n",
    "for i ,(x, y) in enumerate(zip(x_coord_train, y_coord_train)):\n",
    "    xy_coord_train[i, 0, 0, 0] = x \n",
    "    xy_coord_train[i, 0, 0, 1] = y \n",
    "    \n",
    "for i ,(x, y) in enumerate(zip(x_coord_test, y_coord_test)):\n",
    "    xy_coord_test[i, 0, 0, 0] = x \n",
    "    xy_coord_test[i, 0, 0, 1] = y     "
   ]
  },
  {
   "cell_type": "code",
   "execution_count": 4,
   "metadata": {},
   "outputs": [
    {
     "data": {
      "image/png": "[encoded data removed]",
      "text/plain": [
       "<Figure size 432x288 with 1 Axes>"
      ]
     },
     "metadata": {},
     "output_type": "display_data"
    },
    {
     "data": {
      "image/png": "[encoded data removed]",
      "text/plain": [
       "<Figure size 432x288 with 1 Axes>"
      ]
     },
     "metadata": {},
     "output_type": "display_data"
    }
   ],
   "source": [
    "# Plot dataset\n",
    "\n",
    "plt.imshow(np.sum(train_onehot, axis=0)[:, :, 0], cmap='gray')\n",
    "plt.title('Train One-hot dataset')\n",
    "plt.show()\n",
    "plt.imshow(np.sum(test_onehot, axis=0)[:, :, 0], cmap='gray')\n",
    "plt.title('Test One-hot dataset')\n",
    "plt.show()"
   ]
  },
  {
   "cell_type": "code",
   "execution_count": 5,
   "metadata": {
    "scrolled": false
   },
   "outputs": [
    {
     "name": "stdout",
     "output_type": "stream",
     "text": [
      "Training data set label #0, x coordinate: \n"
     ]
    },
    {
     "data": {
      "image/png": "[encoded data removed]",
      "text/plain": [
       "<Figure size 432x288 with 1 Axes>"
      ]
     },
     "metadata": {},
     "output_type": "display_data"
    },
    {
     "name": "stdout",
     "output_type": "stream",
     "text": [
      "exit\n"
     ]
    }
   ],
   "source": [
    "for i in range(len(train_onehot)):\n",
    "    plt.imshow(train_onehot[i, :, :, 0], cmap='gray')\n",
    "    print(\"Training data set label #{}, x coordinate: \".format(i))\n",
    "    plt.show()\n",
    "\n",
    "    if input()== 'exit':\n",
    "        break"
   ]
  },
  {
   "cell_type": "markdown",
   "metadata": {},
   "source": [
    "# Coordconv Model"
   ]
  },
  {
   "cell_type": "code",
   "execution_count": 6,
   "metadata": {},
   "outputs": [],
   "source": [
    "#model \n",
    "from tensorflow.keras import Model, Sequential\n",
    "from tensorflow.keras.layers import Conv2D, Flatten, Dense, Softmax, MaxPooling2D\n",
    "from coord_conv import CoordConv\n",
    "\n",
    "model = Sequential([\n",
    "    CoordConv(x_dim = 64, y_dim = 64, with_r = False, filters = 8, \n",
    "              kernel_size = 1, padding='same', activation='relu'),\n",
    "    Conv2D(filters = 8, kernel_size = 1, strides = 1, padding = \"same\", activation = 'relu'), \n",
    "    Conv2D(filters = 8, kernel_size = 1, strides = 1, padding = \"same\", activation = 'relu'), \n",
    "    Conv2D(filters = 8, kernel_size = 3, strides = 1, padding = \"same\", activation = 'relu'), \n",
    "    Conv2D(filters = 2, kernel_size = 3, strides = 1, padding = \"same\", activation = 'relu'), \n",
    "    MaxPooling2D(pool_size = 64, strides = 64, padding = 'valid'),\n",
    "    #output shape(batch_size, 1, 1, 2)\n",
    "])\n",
    "\n",
    "model.build((None, 64,64, 1))"
   ]
  },
  {
   "cell_type": "code",
   "execution_count": 7,
   "metadata": {
    "scrolled": false
   },
   "outputs": [
    {
     "name": "stdout",
     "output_type": "stream",
     "text": [
      "Model: \"sequential\"\n",
      "_________________________________________________________________\n",
      "Layer (type)                 Output Shape              Param #   \n",
      "=================================================================\n",
      "coord_conv (CoordConv)       multiple                  32        \n",
      "_________________________________________________________________\n",
      "conv2d_1 (Conv2D)            multiple                  72        \n",
      "_________________________________________________________________\n",
      "conv2d_2 (Conv2D)            multiple                  72        \n",
      "_________________________________________________________________\n",
      "conv2d_3 (Conv2D)            multiple                  584       \n",
      "_________________________________________________________________\n",
      "conv2d_4 (Conv2D)            multiple                  146       \n",
      "_________________________________________________________________\n",
      "max_pooling2d (MaxPooling2D) multiple                  0         \n",
      "=================================================================\n",
      "Total params: 906\n",
      "Trainable params: 906\n",
      "Non-trainable params: 0\n",
      "_________________________________________________________________\n"
     ]
    }
   ],
   "source": [
    "model.summary()"
   ]
  },
  {
   "cell_type": "code",
   "execution_count": 8,
   "metadata": {
    "scrolled": false
   },
   "outputs": [
    {
     "name": "stdout",
     "output_type": "stream",
     "text": [
      "Train on 2508 samples, validate on 628 samples\n",
      "Epoch 1/20\n",
      "2508/2508 [==============================] - 1s 592us/sample - loss: 369.7203 - accuracy: 0.5040 - val_loss: 257.0155 - val_accuracy: 0.5127\n",
      "Epoch 2/20\n",
      "2508/2508 [==============================] - 1s 240us/sample - loss: 269.3976 - accuracy: 0.4809 - val_loss: 264.4538 - val_accuracy: 0.4873\n",
      "Epoch 3/20\n",
      "2508/2508 [==============================] - 1s 209us/sample - loss: 267.9517 - accuracy: 0.5080 - val_loss: 257.0467 - val_accuracy: 0.4873\n",
      "Epoch 4/20\n",
      "2508/2508 [==============================] - 1s 238us/sample - loss: 274.7059 - accuracy: 0.5000 - val_loss: 258.7748 - val_accuracy: 0.4873\n",
      "Epoch 5/20\n",
      "2508/2508 [==============================] - 1s 223us/sample - loss: 266.7139 - accuracy: 0.5136 - val_loss: 264.8681 - val_accuracy: 0.5127\n",
      "Epoch 6/20\n",
      "2508/2508 [==============================] - 1s 232us/sample - loss: 268.3736 - accuracy: 0.4896 - val_loss: 264.2140 - val_accuracy: 0.4873\n",
      "Epoch 7/20\n",
      "2508/2508 [==============================] - 1s 249us/sample - loss: 268.0212 - accuracy: 0.4777 - val_loss: 258.2458 - val_accuracy: 0.5127\n",
      "Epoch 8/20\n",
      "2508/2508 [==============================] - 1s 251us/sample - loss: 233.8897 - accuracy: 0.5443 - val_loss: 117.5928 - val_accuracy: 0.6083\n",
      "Epoch 9/20\n",
      "2508/2508 [==============================] - 1s 256us/sample - loss: 83.3049 - accuracy: 0.8293 - val_loss: 21.6868 - val_accuracy: 0.9331\n",
      "Epoch 10/20\n",
      "2508/2508 [==============================] - 1s 252us/sample - loss: 9.3268 - accuracy: 0.9514 - val_loss: 4.8125 - val_accuracy: 0.9459\n",
      "Epoch 11/20\n",
      "2508/2508 [==============================] - 1s 249us/sample - loss: 2.2546 - accuracy: 0.9673 - val_loss: 0.9256 - val_accuracy: 0.9793\n",
      "Epoch 12/20\n",
      "2508/2508 [==============================] - 1s 249us/sample - loss: 0.6257 - accuracy: 0.9848 - val_loss: 0.3755 - val_accuracy: 0.9968\n",
      "Epoch 13/20\n",
      "2508/2508 [==============================] - 1s 236us/sample - loss: 0.2572 - accuracy: 0.9880 - val_loss: 0.1809 - val_accuracy: 0.9968\n",
      "Epoch 14/20\n",
      "2508/2508 [==============================] - 1s 245us/sample - loss: 0.1299 - accuracy: 0.9896 - val_loss: 0.0998 - val_accuracy: 0.9825\n",
      "Epoch 15/20\n",
      "2508/2508 [==============================] - 1s 243us/sample - loss: 0.0822 - accuracy: 0.9900 - val_loss: 0.0951 - val_accuracy: 0.9713\n",
      "Epoch 16/20\n",
      "2508/2508 [==============================] - 1s 246us/sample - loss: 0.0652 - accuracy: 0.9912 - val_loss: 0.0488 - val_accuracy: 0.9841\n",
      "Epoch 17/20\n",
      "2508/2508 [==============================] - 1s 251us/sample - loss: 0.0413 - accuracy: 0.9904 - val_loss: 0.0391 - val_accuracy: 0.9809\n",
      "Epoch 18/20\n",
      "2508/2508 [==============================] - 1s 229us/sample - loss: 0.0429 - accuracy: 0.9896 - val_loss: 0.0304 - val_accuracy: 0.9952\n",
      "Epoch 19/20\n",
      "2508/2508 [==============================] - 1s 228us/sample - loss: 0.0728 - accuracy: 0.9908 - val_loss: 0.0250 - val_accuracy: 0.9920\n",
      "Epoch 20/20\n",
      "2508/2508 [==============================] - 1s 240us/sample - loss: 0.0498 - accuracy: 0.9924 - val_loss: 0.0736 - val_accuracy: 1.0000\n"
     ]
    },
    {
     "data": {
      "text/plain": [
       "<tensorflow.python.keras.callbacks.History at 0x7fa4140c8c50>"
      ]
     },
     "execution_count": 8,
     "metadata": {},
     "output_type": "execute_result"
    }
   ],
   "source": [
    "#model input coordinates\n",
    "\n",
    "optimizer = tf.keras.optimizers.Adam(lr=0.01)\n",
    "model.compile(optimizer, 'mean_squared_error', metrics=['accuracy'])\n",
    "model.fit(train_onehot,xy_coord_train, batch_size = 32, epochs = 20,\n",
    "          verbose = 1, validation_data = (test_onehot, xy_coord_test))"
   ]
  },
  {
   "cell_type": "code",
   "execution_count": 16,
   "metadata": {
    "scrolled": true
   },
   "outputs": [
    {
     "name": "stdout",
     "output_type": "stream",
     "text": [
      "(2,)\n"
     ]
    }
   ],
   "source": [
    "test = np.squeeze(preds[0])\n",
    "print(test.shape)"
   ]
  },
  {
   "cell_type": "code",
   "execution_count": 22,
   "metadata": {},
   "outputs": [
    {
     "data": {
      "text/plain": [
       "array([[29.432579]], dtype=float32)"
      ]
     },
     "execution_count": 22,
     "metadata": {},
     "output_type": "execute_result"
    }
   ],
   "source": [
    "preds[0,:,:,0]"
   ]
  },
  {
   "cell_type": "code",
   "execution_count": 17,
   "metadata": {},
   "outputs": [
    {
     "data": {
      "text/plain": [
       "array([29.432579, 29.099714], dtype=float32)"
      ]
     },
     "execution_count": 17,
     "metadata": {},
     "output_type": "execute_result"
    }
   ],
   "source": [
    "test"
   ]
  },
  {
   "cell_type": "code",
   "execution_count": 9,
   "metadata": {
    "scrolled": true
   },
   "outputs": [
    {
     "name": "stdout",
     "output_type": "stream",
     "text": [
      "True coordinates: [[[25. 31.]]]\n",
      "Predicted coordinates: [[[25.32437  30.672096]]]\n",
      "Error: 0.46123355627059937\n"
     ]
    },
    {
     "data": {
      "image/png": "[encoded data removed]",
      "text/plain": [
       "<Figure size 432x288 with 1 Axes>"
      ]
     },
     "metadata": {},
     "output_type": "display_data"
    },
    {
     "name": "stdout",
     "output_type": "stream",
     "text": [
      "\n",
      "True coordinates: [[[31. 17.]]]\n",
      "Predicted coordinates: [[[31.321613 16.694048]]]\n",
      "Error: 0.4438939094543457\n"
     ]
    },
    {
     "data": {
      "image/png": "[encoded data removed]",
      "text/plain": [
       "<Figure size 432x288 with 1 Axes>"
      ]
     },
     "metadata": {},
     "output_type": "display_data"
    },
    {
     "name": "stdout",
     "output_type": "stream",
     "text": [
      "exit\n"
     ]
    }
   ],
   "source": [
    "#Visualize test set\n",
    "preds = model.predict(test_onehot)\n",
    "\n",
    "def error(true_coord, pred_coord, i):\n",
    "    x_dif = true_coord[i,0,0,0] - pred_coord[i,0,0,0]\n",
    "    y_dif = true_coord[i,0,0,1] - pred_coord[i,0,0,1]\n",
    "    return np.sqrt(np.square(x_dif)+np.square(y_dif))\n",
    "\n",
    "for i in range(len(xy_coord_test)):\n",
    "    print('True coordinates: {}'.format(xy_coord_test[i]))\n",
    "    print('Predicted coordinates: {}'.format(preds[i]))\n",
    "    print('Error: {}' .format(error(xy_coord_test, preds, i)))\n",
    "    plt.imshow(np.reshape(test_onehot[i], (64, 64)), cmap='gray')\n",
    "    plt.show()\n",
    "    \n",
    "    if input() == 'exit':\n",
    "        break"
   ]
  },
  {
   "cell_type": "markdown",
   "metadata": {},
   "source": [
    "# Normal Covnet Model"
   ]
  },
  {
   "cell_type": "code",
   "execution_count": 10,
   "metadata": {},
   "outputs": [],
   "source": [
    "covnet = Sequential([\n",
    "    Conv2D(filters = 8, kernel_size = 1, strides = 1, padding = \"same\", activation = 'relu'), \n",
    "    Conv2D(filters = 8, kernel_size = 1, strides = 1, padding = \"same\", activation = 'relu'), \n",
    "    Conv2D(filters = 8, kernel_size = 1, strides = 1, padding = \"same\", activation = 'relu'), \n",
    "    Conv2D(filters = 8, kernel_size = 3, strides = 1, padding = \"same\", activation = 'relu'), \n",
    "    Conv2D(filters = 2, kernel_size = 3, strides = 1, padding = \"same\", activation = 'relu'), \n",
    "    MaxPooling2D(pool_size = 64, strides = 64, padding = 'valid'),\n",
    "    #output shape(batch_size, 1, 1, 2)\n",
    "])\n",
    "\n",
    "covnet.build((None, 64,64, 1))"
   ]
  },
  {
   "cell_type": "code",
   "execution_count": 11,
   "metadata": {},
   "outputs": [
    {
     "name": "stdout",
     "output_type": "stream",
     "text": [
      "Train on 2508 samples, validate on 628 samples\n",
      "Epoch 1/20\n",
      "2508/2508 [==============================] - 1s 306us/sample - loss: 367.0234 - accuracy: 0.5000 - val_loss: 269.3990 - val_accuracy: 0.4873\n",
      "Epoch 2/20\n",
      "2508/2508 [==============================] - 0s 193us/sample - loss: 266.4491 - accuracy: 0.4912 - val_loss: 256.1031 - val_accuracy: 0.5127\n",
      "Epoch 3/20\n",
      "2508/2508 [==============================] - 0s 199us/sample - loss: 266.2829 - accuracy: 0.4976 - val_loss: 257.5842 - val_accuracy: 0.5127\n",
      "Epoch 4/20\n",
      "2508/2508 [==============================] - 0s 173us/sample - loss: 267.0848 - accuracy: 0.4936 - val_loss: 255.5816 - val_accuracy: 0.5127\n",
      "Epoch 5/20\n",
      "2508/2508 [==============================] - 1s 219us/sample - loss: 264.2374 - accuracy: 0.5183 - val_loss: 261.7780 - val_accuracy: 0.4873\n",
      "Epoch 6/20\n",
      "2508/2508 [==============================] - 1s 220us/sample - loss: 265.1623 - accuracy: 0.4944 - val_loss: 258.0636 - val_accuracy: 0.5127\n",
      "Epoch 7/20\n",
      "2508/2508 [==============================] - 1s 221us/sample - loss: 264.3974 - accuracy: 0.5072 - val_loss: 265.0579 - val_accuracy: 0.4873\n",
      "Epoch 8/20\n",
      "2508/2508 [==============================] - 1s 221us/sample - loss: 265.8038 - accuracy: 0.4936 - val_loss: 256.1762 - val_accuracy: 0.4873\n",
      "Epoch 9/20\n",
      "2508/2508 [==============================] - 1s 203us/sample - loss: 266.6591 - accuracy: 0.4936 - val_loss: 270.3724 - val_accuracy: 0.4873\n",
      "Epoch 10/20\n",
      "2508/2508 [==============================] - 0s 195us/sample - loss: 265.1402 - accuracy: 0.4856 - val_loss: 256.6512 - val_accuracy: 0.5127\n",
      "Epoch 11/20\n",
      "2508/2508 [==============================] - 0s 170us/sample - loss: 264.0112 - accuracy: 0.4880 - val_loss: 256.7914 - val_accuracy: 0.4873\n",
      "Epoch 12/20\n",
      "2508/2508 [==============================] - 0s 185us/sample - loss: 268.7155 - accuracy: 0.4864 - val_loss: 260.0617 - val_accuracy: 0.5127\n",
      "Epoch 13/20\n",
      "2508/2508 [==============================] - 1s 217us/sample - loss: 263.9646 - accuracy: 0.4992 - val_loss: 256.4108 - val_accuracy: 0.4873\n",
      "Epoch 14/20\n",
      "2508/2508 [==============================] - 1s 206us/sample - loss: 268.9622 - accuracy: 0.4976 - val_loss: 256.4255 - val_accuracy: 0.4873\n",
      "Epoch 15/20\n",
      "2508/2508 [==============================] - 1s 208us/sample - loss: 265.6092 - accuracy: 0.4888 - val_loss: 258.0577 - val_accuracy: 0.5127\n",
      "Epoch 16/20\n",
      "2508/2508 [==============================] - 1s 211us/sample - loss: 264.2590 - accuracy: 0.5128 - val_loss: 261.1268 - val_accuracy: 0.4873\n",
      "Epoch 17/20\n",
      "2508/2508 [==============================] - 1s 205us/sample - loss: 264.7842 - accuracy: 0.5016 - val_loss: 255.6295 - val_accuracy: 0.4873\n",
      "Epoch 18/20\n",
      "2508/2508 [==============================] - 1s 217us/sample - loss: 265.2018 - accuracy: 0.5080 - val_loss: 266.5257 - val_accuracy: 0.4873\n",
      "Epoch 19/20\n",
      "2508/2508 [==============================] - 0s 174us/sample - loss: 266.0071 - accuracy: 0.4920 - val_loss: 256.7628 - val_accuracy: 0.5127\n",
      "Epoch 20/20\n",
      "2508/2508 [==============================] - 1s 201us/sample - loss: 266.0947 - accuracy: 0.5072 - val_loss: 259.7753 - val_accuracy: 0.5127\n"
     ]
    },
    {
     "data": {
      "text/plain": [
       "<tensorflow.python.keras.callbacks.History at 0x7fa3f03ebe48>"
      ]
     },
     "execution_count": 11,
     "metadata": {},
     "output_type": "execute_result"
    }
   ],
   "source": [
    "ptimizer = tf.keras.optimizers.Adam(lr=0.01)\n",
    "covnet.compile(optimizer, 'mean_squared_error', metrics=['accuracy'])\n",
    "covnet.fit(train_onehot,xy_coord_train, batch_size = 32, epochs = 20,\n",
    "          verbose = 1, validation_data = (test_onehot, xy_coord_test))"
   ]
  },
  {
   "cell_type": "code",
   "execution_count": 12,
   "metadata": {},
   "outputs": [
    {
     "name": "stdout",
     "output_type": "stream",
     "text": [
      "True coordinates: [[[25. 31.]]]\n",
      "Predicted coordinates: [[[29.432579 29.099714]]]\n",
      "Error: 4.822741985321045\n"
     ]
    },
    {
     "data": {
      "image/png": "[encoded data removed]",
      "text/plain": [
       "<Figure size 432x288 with 1 Axes>"
      ]
     },
     "metadata": {},
     "output_type": "display_data"
    },
    {
     "name": "stdout",
     "output_type": "stream",
     "text": [
      "exit\n"
     ]
    }
   ],
   "source": [
    "preds = covnet.predict(test_onehot)\n",
    "\n",
    "def error(true_coord, pred_coord, i):\n",
    "    x_dif = true_coord[i,0,0,0] - pred_coord[i,0,0,0]\n",
    "    y_dif = true_coord[i,0,0,1] - pred_coord[i,0,0,1]\n",
    "    return np.sqrt(np.square(x_dif)+np.square(y_dif))\n",
    "\n",
    "for i in range(len(xy_coord_test)):\n",
    "    print('True coordinates: {}'.format(xy_coord_test[i]))\n",
    "    print('Predicted coordinates: {}'.format(preds[i]))\n",
    "    print('Error: {}' .format(error(xy_coord_test, preds, i)))\n",
    "    plt.imshow(np.reshape(test_onehot[i], (64, 64)), cmap='gray')\n",
    "    plt.show()\n",
    "    \n",
    "    if input() == 'exit':\n",
    "        break"
   ]
  }
 ],
 "metadata": {
  "kernelspec": {
   "display_name": "Python 3",
   "language": "python",
   "name": "python3"
  },
  "language_info": {
   "codemirror_mode": {
    "name": "ipython",
    "version": 3
   },
   "file_extension": ".py",
   "mimetype": "text/x-python",
   "name": "python",
   "nbconvert_exporter": "python",
   "pygments_lexer": "ipython3",
   "version": "3.6.6"
  }
 },
 "nbformat": 4,
 "nbformat_minor": 2
}
