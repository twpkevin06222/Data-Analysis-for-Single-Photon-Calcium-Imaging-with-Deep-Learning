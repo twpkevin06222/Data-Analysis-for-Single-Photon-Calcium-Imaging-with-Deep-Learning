{
 "cells": [
  {
   "cell_type": "markdown",
   "metadata": {},
   "source": [
    "# Notes:"
   ]
  },
  {
   "cell_type": "markdown",
   "metadata": {},
   "source": [
    "- This implementation is a replicate of coordconv uniform dataset classification task from the paper \"An intriguing failing of convolutional neural networks and the CoordConv solution\" by R.Liu et al. (2018) from Uber AI. \n",
    "\n",
    "- The model takes coordinates as an input"
   ]
  },
  {
   "cell_type": "code",
   "execution_count": 1,
   "metadata": {},
   "outputs": [],
   "source": [
    "import os\n",
    "import sys\n",
    "import numpy as np\n",
    "import matplotlib.pyplot as plt\n",
    "%matplotlib inline \n",
    "import tensorflow as tf"
   ]
  },
  {
   "cell_type": "code",
   "execution_count": 2,
   "metadata": {},
   "outputs": [],
   "source": [
    "#retrieve data from folder\n",
    "\n",
    "#references: https://github.com/titu1994/keras-coordconv/blob/master/experiments/train_uniform_classifier.py\n",
    "train_onehot = np.load('coordconv_data/train_onehot.npy').astype('float32')\n",
    "test_onehot = np.load('coordconv_data/test_onehot.npy').astype('float32')\n",
    "\n",
    "#retrieve coordinates\n",
    "coord_train = np.where(train_onehot == 1.0)\n",
    "coord_test = np.where(test_onehot == 1.0)\n",
    "\n",
    "#Training coords \n",
    "x_coord_train = coord_train[1]\n",
    "y_coord_train = coord_train[2]\n",
    "\n",
    "#Test coords\n",
    "x_coord_test = coord_test[1]\n",
    "y_coord_test = coord_test[2]"
   ]
  },
  {
   "cell_type": "code",
   "execution_count": 3,
   "metadata": {},
   "outputs": [],
   "source": [
    "train_set = np.zeros((len(x_coord_train), 1, 1, 2), dtype='float32')\n",
    "test_set = np.zeros((len(x_coord_test), 1, 1, 2), dtype='float32')\n",
    "\n",
    "for i ,(x, y) in enumerate(zip(x_coord_train, y_coord_train)):\n",
    "    train_set[i, 0, 0, 0] = x #1st channel x coord \n",
    "    train_set[i, 0, 0, 1] = y #2nd channel y coord\n",
    "\n",
    "for i ,(x, y) in enumerate(zip(x_coord_test, y_coord_test)):\n",
    "    test_set[i, 0, 0, 0] = x #1st channel x coord \n",
    "    test_set[i, 0, 0, 1] = y #2nd channel y coord    \n",
    "    \n",
    "train_set = np.tile(train_set, [1, 64, 64, 1])\n",
    "#train_set.shape[0] (64, 64, 2) => return: 1st channel, 64 numbers of same x_coord ..\n",
    "test_set = np.tile(test_set, [1, 64, 64, 1])"
   ]
  },
  {
   "cell_type": "code",
   "execution_count": 4,
   "metadata": {
    "scrolled": true
   },
   "outputs": [
    {
     "name": "stdout",
     "output_type": "stream",
     "text": [
      "Train set : shape: (2508, 64, 64, 2), max value:0.9365079402923584, min value: 0.0634920671582222\n",
      "Test set : : shape: (628, 64, 64, 2), max value:0.9365079402923584, min value: 0.0634920671582222 \n"
     ]
    }
   ],
   "source": [
    "#normalizing dataset\n",
    "\n",
    "train_set /= (64. - 1.) \n",
    "test_set /= (64. - 1.) \n",
    "print('Train set : shape: {}, max value:{}, min value: {}'. format(train_set.shape, train_set.max(), train_set.min()))\n",
    "print('Test set : : shape: {}, max value:{}, min value: {} '.format(test_set.shape, test_set.max(), test_set.min()))"
   ]
  },
  {
   "cell_type": "code",
   "execution_count": 5,
   "metadata": {},
   "outputs": [
    {
     "data": {
      "image/png": "[encoded data removed]",
      "text/plain": [
       "<Figure size 432x288 with 2 Axes>"
      ]
     },
     "metadata": {},
     "output_type": "display_data"
    }
   ],
   "source": [
    "# Plot dataset\n",
    "fig, (ax1, ax2) = plt.subplots(1, 2) \n",
    "ax1.imshow(np.sum(train_onehot, axis=0)[:, :, 0], cmap='gray')\n",
    "ax1.set_title('Train One-hot dataset')\n",
    "\n",
    "ax2.imshow(np.sum(test_onehot, axis=0)[:, :, 0], cmap='gray')\n",
    "ax2.set_title('Test One-hot dataset')\n",
    "plt.show()"
   ]
  },
  {
   "cell_type": "code",
   "execution_count": 6,
   "metadata": {
    "scrolled": true
   },
   "outputs": [
    {
     "name": "stdout",
     "output_type": "stream",
     "text": [
      "Training data set label #0, x coordinate: \n"
     ]
    },
    {
     "data": {
      "image/png": "[encoded data removed]",
      "text/plain": [
       "<Figure size 432x288 with 1 Axes>"
      ]
     },
     "metadata": {},
     "output_type": "display_data"
    }
   ],
   "source": [
    "for i in range(len(train_onehot)):\n",
    "    plt.imshow(train_onehot[i, :, :, 0], cmap='gray')\n",
    "    print(\"Training data set label #{}, x coordinate: \".format(i))\n",
    "    plt.show()\n",
    "    break\n",
    "#     if input()== 'exit':\n",
    "#         break"
   ]
  },
  {
   "cell_type": "code",
   "execution_count": 7,
   "metadata": {},
   "outputs": [],
   "source": [
    "#flatten one hot labels for final layer\n",
    "train_onehot = train_onehot.reshape((-1, 64 * 64)) #shape(batch, 64*64)\n",
    "test_onehot = test_onehot.reshape((-1, 64 * 64))"
   ]
  },
  {
   "cell_type": "code",
   "execution_count": 8,
   "metadata": {},
   "outputs": [],
   "source": [
    "#model\n",
    "from tensorflow.keras import Model, Sequential\n",
    "from tensorflow.keras.layers import Conv2D, Flatten, Dense, Softmax\n",
    "from coord_conv import CoordConv\n",
    "\n",
    "class coordconv(Model):\n",
    "    def __init__(self):\n",
    "        super(coordconv, self).__init__()\n",
    "        \n",
    "        self.pre_mode = Sequential([\n",
    "                tf.keras.layers.InputLayer(input_shape=(64, 64, 2)),\n",
    "                CoordConv(x_dim = 64, y_dim = 64, with_r = False, filters = 64, \n",
    "                      kernel_size = 1, padding='same', activation='relu'),\n",
    "                Conv2D(filters = 32, kernel_size = 1, strides = 1,\n",
    "                       padding = \"same\", activation = 'relu'), \n",
    "                Conv2D(filters = 32, kernel_size = 1, strides = 1,\n",
    "                       padding = \"same\", activation = 'relu'), \n",
    "                Conv2D(filters = 64, kernel_size = 1, strides = 1, \n",
    "                       padding = \"same\", activation = 'relu'), \n",
    "                Conv2D(filters = 64, kernel_size = 1, strides = 1, \n",
    "                       padding = \"same\", activation = 'relu'), \n",
    "                Conv2D(filters = 1, kernel_size = 1, strides = 1, \n",
    "                       padding = \"same\" ),\n",
    "                Flatten(),\n",
    "                ])\n",
    "        \n",
    "        self.post_mode = Sequential([\n",
    "                tf.keras.layers.InputLayer(input_shape=(64, 64, 2)),\n",
    "                CoordConv(x_dim = 64, y_dim = 64, with_r = False, filters = 64, \n",
    "                      kernel_size = 1, padding='same', activation='relu'),\n",
    "                Conv2D(filters = 32, kernel_size = 1, strides = 1,\n",
    "                       padding = \"same\", activation = 'relu'), \n",
    "                Conv2D(filters = 32, kernel_size = 1, strides = 1,\n",
    "                       padding = \"same\", activation = 'relu'), \n",
    "                Conv2D(filters = 64, kernel_size = 1, strides = 1, \n",
    "                       padding = \"same\", activation = 'relu'), \n",
    "                Conv2D(filters = 64, kernel_size = 1, strides = 1, \n",
    "                       padding = \"same\", activation = 'relu'), \n",
    "                Conv2D(filters = 1, kernel_size = 1, strides = 1, \n",
    "                       padding = \"same\" ),\n",
    "                Flatten(),\n",
    "                Softmax(),\n",
    "                ])\n",
    "        \n",
    "    def pre_soft(self, inp):\n",
    "        return self.pre_mode(inp)\n",
    "    \n",
    "    def post_soft(self, inp):\n",
    "        return self.post_mode(inp)\n",
    "    "
   ]
  },
  {
   "cell_type": "code",
   "execution_count": 9,
   "metadata": {
    "scrolled": true
   },
   "outputs": [
    {
     "name": "stderr",
     "output_type": "stream",
     "text": [
      "WARNING: Logging before flag parsing goes to stderr.\n",
      "W0708 00:07:33.512448 140427230598912 optimizer_v2.py:928] Gradients does not exist for variables ['coord_conv/conv2d/kernel:0', 'coord_conv/conv2d/bias:0', 'conv2d_1/kernel:0', 'conv2d_1/bias:0', 'conv2d_2/kernel:0', 'conv2d_2/bias:0', 'conv2d_3/kernel:0', 'conv2d_3/bias:0', 'conv2d_4/kernel:0', 'conv2d_4/bias:0', 'conv2d_5/kernel:0', 'conv2d_5/bias:0'] when minimizing the loss.\n",
      "W0708 00:07:34.112294 140427230598912 optimizer_v2.py:928] Gradients does not exist for variables ['coord_conv/conv2d/kernel:0', 'coord_conv/conv2d/bias:0', 'conv2d_1/kernel:0', 'conv2d_1/bias:0', 'conv2d_2/kernel:0', 'conv2d_2/bias:0', 'conv2d_3/kernel:0', 'conv2d_3/bias:0', 'conv2d_4/kernel:0', 'conv2d_4/bias:0', 'conv2d_5/kernel:0', 'conv2d_5/bias:0'] when minimizing the loss.\n"
     ]
    },
    {
     "name": "stdout",
     "output_type": "stream",
     "text": [
      "Step: 0, Loss: 8.31312084197998, Accuracy: 0.0\n",
      "Step: 100, Loss: 6.615070819854736, Accuracy: 0.049504950642585754\n",
      "Step: 200, Loss: 4.1240434646606445, Accuracy: 0.41417911648750305\n",
      "Step: 300, Loss: 2.7993335723876953, Accuracy: 0.6067276000976562\n",
      "Step: 400, Loss: 2.1064252853393555, Accuracy: 0.7048004865646362\n",
      "Step: 500, Loss: 1.6878851652145386, Accuracy: 0.7637225389480591\n",
      "Step: 600, Loss: 1.407929539680481, Accuracy: 0.803036630153656\n",
      "Step: 700, Loss: 1.2075637578964233, Accuracy: 0.8311340808868408\n",
      "Step: 800, Loss: 1.0571179389953613, Accuracy: 0.8522160053253174\n",
      "Step: 900, Loss: 0.9399974942207336, Accuracy: 0.8686181902885437\n",
      "Step: 1000, Loss: 0.8462737798690796, Accuracy: 0.8817432522773743\n",
      "Step: 1100, Loss: 0.7695527076721191, Accuracy: 0.8924841284751892\n",
      "Step: 1200, Loss: 0.7055498957633972, Accuracy: 0.9014363288879395\n",
      "Step: 1300, Loss: 0.6513774991035461, Accuracy: 0.9090123176574707\n",
      "Step: 1400, Loss: 0.604927659034729, Accuracy: 0.9155067801475525\n",
      "Step: 1500, Loss: 0.564662754535675, Accuracy: 0.9211359024047852\n",
      "Step: 1600, Loss: 0.5294231176376343, Accuracy: 0.9260618090629578\n",
      "Step: 1700, Loss: 0.4983229637145996, Accuracy: 0.9304085969924927\n",
      "Step: 1800, Loss: 0.47067371010780334, Accuracy: 0.9342726469039917\n",
      "Step: 1900, Loss: 0.44593021273612976, Accuracy: 0.9377301335334778\n",
      "Step: 2000, Loss: 0.4236595034599304, Accuracy: 0.9408420920372009\n",
      "Step: 2100, Loss: 0.4035075604915619, Accuracy: 0.9436577558517456\n",
      "Step: 2200, Loss: 0.3851848542690277, Accuracy: 0.9462176561355591\n",
      "Step: 2300, Loss: 0.3684537708759308, Accuracy: 0.9485549926757812\n",
      "Step: 2400, Loss: 0.3531152606010437, Accuracy: 0.9506976008415222\n",
      "Step: 2500, Loss: 0.3390035927295685, Accuracy: 0.9526689052581787\n",
      "Step: 2600, Loss: 0.32597580552101135, Accuracy: 0.9544886350631714\n",
      "Step: 2700, Loss: 0.3139123022556305, Accuracy: 0.9561736583709717\n",
      "Step: 2800, Loss: 0.3027099072933197, Accuracy: 0.9577382802963257\n",
      "Step: 2900, Loss: 0.2922791838645935, Accuracy: 0.959195077419281\n",
      "Step: 3000, Loss: 0.2825430929660797, Accuracy: 0.960554838180542\n",
      "Step: 3100, Loss: 0.2734348177909851, Accuracy: 0.9618268013000488\n",
      "Step: 3200, Loss: 0.26489540934562683, Accuracy: 0.9630193710327148\n",
      "Step: 3300, Loss: 0.25687310099601746, Accuracy: 0.9641396403312683\n",
      "Step: 3400, Loss: 0.24932247400283813, Accuracy: 0.965194046497345\n",
      "Step: 3500, Loss: 0.2422029972076416, Accuracy: 0.9661882519721985\n",
      "Step: 3600, Loss: 0.23547892272472382, Accuracy: 0.9671272039413452\n",
      "Step: 3700, Loss: 0.22911815345287323, Accuracy: 0.9680153727531433\n",
      "Step: 3800, Loss: 0.2230919748544693, Accuracy: 0.9688568711280823\n",
      "Step: 3900, Loss: 0.21737469732761383, Accuracy: 0.9696552157402039\n",
      "Step: 4000, Loss: 0.21194306015968323, Accuracy: 0.9704136252403259\n",
      "Step: 4100, Loss: 0.20677632093429565, Accuracy: 0.9711350798606873\n",
      "Step: 4200, Loss: 0.20185546576976776, Accuracy: 0.971822202205658\n",
      "Step: 4300, Loss: 0.19716337323188782, Accuracy: 0.9724773168563843\n",
      "Step: 4400, Loss: 0.1926843374967575, Accuracy: 0.9731026887893677\n",
      "Step: 4500, Loss: 0.18840409815311432, Accuracy: 0.9737002849578857\n",
      "Step: 4600, Loss: 0.1843099445104599, Accuracy: 0.9742718935012817\n",
      "Step: 4700, Loss: 0.18038977682590485, Accuracy: 0.9748191833496094\n",
      "Step: 4800, Loss: 0.17663279175758362, Accuracy: 0.9753437042236328\n",
      "Step: 4900, Loss: 0.17302902042865753, Accuracy: 0.9758467674255371\n",
      "Step: 5000, Loss: 0.16956932842731476, Accuracy: 0.9763297438621521\n",
      "End of steps!\n"
     ]
    }
   ],
   "source": [
    "# Alternative implementation with lower level API \n",
    "\n",
    "BATCH_SIZE = 32\n",
    "MAX_STEP = 5000\n",
    "lr = 1e-3\n",
    "\n",
    "model = coordconv()\n",
    "\n",
    "ds_train = tf.data.Dataset.from_tensor_slices((train_set, train_onehot)).shuffle(10000).repeat(100).batch(BATCH_SIZE)\n",
    "\n",
    "opt = tf.keras.optimizers.Adam(lr)\n",
    "loss_fn = tf.keras.losses.CategoricalCrossentropy()\n",
    "\n",
    "train_loss = tf.keras.metrics.Mean()\n",
    "train_acc = tf.keras.metrics.CategoricalAccuracy()\n",
    "\n",
    "\n",
    "@tf.function\n",
    "def train_fn(imgs, lbls):\n",
    "    with tf.GradientTape() as tape:\n",
    "        output = model.post_soft(imgs)\n",
    "        loss = loss_fn(lbls, output)\n",
    "        #pre-softmax output\n",
    "        pre_soft = model.pre_soft(imgs)\n",
    "        \n",
    "    gradients = tape.gradient(loss, model.trainable_variables)\n",
    "    opt.apply_gradients(zip(gradients, model.trainable_variables))\n",
    "\n",
    "    train_loss(loss)\n",
    "    train_acc(lbls, output)\n",
    "    return output, pre_soft\n",
    "\n",
    "pre_soft_list = []\n",
    "onehot_image_list = []\n",
    "output_list = []\n",
    "\n",
    "for steps, (img_batch, lbl_batch) in enumerate(ds_train):\n",
    "    if steps > MAX_STEP:\n",
    "        print('End of steps!')\n",
    "        break\n",
    "\n",
    "    output, pre_soft = train_fn(img_batch, lbl_batch)\n",
    "    pre_soft_list.append(pre_soft[0]) # 1st image \n",
    "                                      # of each batch shape(64*64)\n",
    "    onehot_image_list.append(lbl_batch[0])\n",
    "    output_list.append(output[0])\n",
    "    Template = 'Step: {}, Loss: {}, Accuracy: {}'\n",
    "\n",
    "    if not steps % 100:\n",
    "        print(Template.format(steps, train_loss.result(), train_acc.result()))"
   ]
  },
  {
   "cell_type": "code",
   "execution_count": 10,
   "metadata": {},
   "outputs": [],
   "source": [
    "pre_soft_list = np.asarray(pre_soft_list[0])\n",
    "\n",
    "pre_soft_list = pre_soft_list.reshape((-1, 64, 64, 1))"
   ]
  },
  {
   "cell_type": "code",
   "execution_count": 11,
   "metadata": {
    "scrolled": true
   },
   "outputs": [
    {
     "data": {
      "image/png": "[encoded data removed]",
      "text/plain": [
       "<Figure size 432x288 with 1 Axes>"
      ]
     },
     "metadata": {},
     "output_type": "display_data"
    }
   ],
   "source": [
    "plt.imshow(np.reshape(pre_soft_list[0],(64, 64)), cmap = 'gray')\n",
    "plt.show()"
   ]
  },
  {
   "cell_type": "code",
   "execution_count": 12,
   "metadata": {},
   "outputs": [],
   "source": [
    "#pre_soft_list[0].dtype\n",
    "tmp_01 = np.where(pre_soft_list[0]==np.max(pre_soft_list[0]))"
   ]
  },
  {
   "cell_type": "code",
   "execution_count": 13,
   "metadata": {},
   "outputs": [
    {
     "data": {
      "text/plain": [
       "(array([25]), array([0]), array([0]))"
      ]
     },
     "execution_count": 13,
     "metadata": {},
     "output_type": "execute_result"
    }
   ],
   "source": [
    "tmp_01"
   ]
  },
  {
   "cell_type": "code",
   "execution_count": 20,
   "metadata": {},
   "outputs": [
    {
     "data": {
      "text/plain": [
       "0.04196794"
      ]
     },
     "execution_count": 20,
     "metadata": {},
     "output_type": "execute_result"
    }
   ],
   "source": [
    "np.max(pre_soft_list[0])"
   ]
  },
  {
   "cell_type": "code",
   "execution_count": 14,
   "metadata": {
    "scrolled": true
   },
   "outputs": [
    {
     "data": {
      "image/png": "[encoded data removed]",
      "text/plain": [
       "<Figure size 432x288 with 1 Axes>"
      ]
     },
     "metadata": {},
     "output_type": "display_data"
    }
   ],
   "source": [
    "plt.imshow(np.reshape(onehot_image_list[0],(64, 64)), cmap = 'gray')\n",
    "plt.show()"
   ]
  },
  {
   "cell_type": "code",
   "execution_count": 15,
   "metadata": {},
   "outputs": [],
   "source": [
    "z = onehot_image_list[0].numpy()\n",
    "z = z.reshape((-1, 64, 64, 1))\n",
    "tmp_02 = np.where(z==np.max(z))"
   ]
  },
  {
   "cell_type": "code",
   "execution_count": 16,
   "metadata": {},
   "outputs": [
    {
     "data": {
      "text/plain": [
       "(array([0]), array([45]), array([53]), array([0]))"
      ]
     },
     "execution_count": 16,
     "metadata": {},
     "output_type": "execute_result"
    }
   ],
   "source": [
    "tmp_02"
   ]
  },
  {
   "cell_type": "code",
   "execution_count": 17,
   "metadata": {
    "scrolled": true
   },
   "outputs": [
    {
     "data": {
      "image/png": "[encoded data removed]",
      "text/plain": [
       "<Figure size 432x288 with 1 Axes>"
      ]
     },
     "metadata": {},
     "output_type": "display_data"
    }
   ],
   "source": [
    "output_list = np.asarray(output_list[0])\n",
    "output_list = output_list.reshape((-1, 64, 64, 1))\n",
    "plt.imshow(np.reshape(output_list[0],(64, 64)), cmap = 'gray')\n",
    "plt.show()"
   ]
  }
 ],
 "metadata": {
  "kernelspec": {
   "display_name": "Python 3",
   "language": "python",
   "name": "python3"
  },
  "language_info": {
   "codemirror_mode": {
    "name": "ipython",
    "version": 3
   },
   "file_extension": ".py",
   "mimetype": "text/x-python",
   "name": "python",
   "nbconvert_exporter": "python",
   "pygments_lexer": "ipython3",
   "version": "3.6.6"
  }
 },
 "nbformat": 4,
 "nbformat_minor": 2
}
