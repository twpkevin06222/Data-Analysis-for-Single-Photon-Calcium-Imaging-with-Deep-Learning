{
 "cells": [
  {
   "cell_type": "code",
   "execution_count": 1,
   "metadata": {},
   "outputs": [],
   "source": [
    "import os\n",
    "import sys\n",
    "import time\n",
    "import glob\n",
    "import scipy.io\n",
    "import numpy as np"
   ]
  },
  {
   "cell_type": "code",
   "execution_count": 2,
   "metadata": {},
   "outputs": [],
   "source": [
    "input_path = '/home/kevinteng/Desktop/Tiff/'\n",
    "save_path = '/home/kevinteng/Desktop/mat/'"
   ]
  },
  {
   "cell_type": "code",
   "execution_count": 3,
   "metadata": {},
   "outputs": [],
   "source": [
    "def mat_2_npy(input_path, save_path):\n",
    "    '''\n",
    "    convert arrays in .mat to numpy array .npy\n",
    "    \n",
    "    input_path: path where data files of LIN is store, no need on specific path of .mat!\n",
    "    save_path: where .npy is save\n",
    "    '''\n",
    "    for main_dir in sorted(os.listdir(input_path)):\n",
    "        print('Directory of mice index:',main_dir)\n",
    "        merge_dir = os.path.join(input_path + main_dir)\n",
    "\n",
    "        print('Directory of .mat files stored:')\n",
    "        print()\n",
    "        for file in sorted(os.listdir(merge_dir )):\n",
    "            mat_list = glob.glob('{}/*.mat'.format(os.path.join(merge_dir + '/'+ file)))\n",
    "            for mat in mat_list:\n",
    "\n",
    "                print(mat)\n",
    "                #obtain file name .mat for new file name during the conversion\n",
    "                mat_dir_split = mat.split(os.sep)\n",
    "                mat_name = mat_dir_split[-1]\n",
    "                #print(mat_name)\n",
    "\n",
    "                #returns dict\n",
    "                data = scipy.io.loadmat(mat)\n",
    "                for i in data:\n",
    "                     if '__' not in i and 'readme' not in i:\n",
    "                        print(data[i].shape)\n",
    "\n",
    "                        #save matlab arrays into .npy file\n",
    "                        np.save(save_path + \"{}_{}.npy\".format(mat_name, i), data[i])\n",
    "            \n",
    "    print()"
   ]
  },
  {
   "cell_type": "code",
   "execution_count": 4,
   "metadata": {
    "scrolled": true
   },
   "outputs": [
    {
     "name": "stdout",
     "output_type": "stream",
     "text": [
      "Directory of mice index: DG 13\n",
      "Directory of .mat files stored:\n",
      "\n",
      "/home/kevinteng/Desktop/Tiff/DG 13/7-12-17/dg-13-7-12-17ROIs.mat\n",
      "(202, 201)\n",
      "(202, 201, 16)\n",
      "/home/kevinteng/Desktop/Tiff/DG 13/7-12-17/dg-13-7-12-17_ROIvalues.mat\n",
      "(605, 16)\n",
      "/home/kevinteng/Desktop/Tiff/DG 13/7-16-17/dg-13-7-16-17_ROIvalues.mat\n",
      "(1886, 13)\n",
      "/home/kevinteng/Desktop/Tiff/DG 13/7-16-17/dg-13-7-16-17ROIs.mat\n",
      "(196, 200)\n",
      "(196, 200, 13)\n",
      "/home/kevinteng/Desktop/Tiff/DG 13/8-11-17/dg-13-8-11-17_ROIvalues.mat\n",
      "(643, 15)\n",
      "/home/kevinteng/Desktop/Tiff/DG 13/8-11-17/dg-13-8-11-17ROIs.mat\n",
      "(200, 194)\n",
      "(200, 194, 15)\n",
      "/home/kevinteng/Desktop/Tiff/DG 13/8-16-17/dg-13-8-16-17ROIs.mat\n",
      "(200, 197)\n",
      "(200, 197, 19)\n",
      "/home/kevinteng/Desktop/Tiff/DG 13/8-16-17/dg-13-8-16-17_ROIvalues.mat\n",
      "(664, 19)\n",
      "/home/kevinteng/Desktop/Tiff/DG 13/8-18-17/dg-13-8-18-17_ROIvalues.mat\n",
      "(658, 16)\n",
      "/home/kevinteng/Desktop/Tiff/DG 13/8-18-17/dg-13-8-18-17ROIs.mat\n",
      "(198, 199)\n",
      "(198, 199, 16)\n",
      "/home/kevinteng/Desktop/Tiff/DG 13/8-3-17/dg-13-8-8-17ROIs.mat\n",
      "(194, 195)\n",
      "(194, 195, 17)\n",
      "/home/kevinteng/Desktop/Tiff/DG 13/8-3-17/dg-13-8-8-17_ROIvalues.mat\n",
      "(756, 17)\n",
      "/home/kevinteng/Desktop/Tiff/DG 13/8-8-17/dg-13-8-8-17ROIs.mat\n",
      "(201, 202)\n",
      "(201, 202, 16)\n",
      "/home/kevinteng/Desktop/Tiff/DG 13/8-8-17/dg-13-8-8-17_ROIvalues.mat\n",
      "(629, 16)\n",
      "\n"
     ]
    }
   ],
   "source": [
    "if __name__ == '__main__':\n",
    "    mat_2_npy(input_path, save_path)"
   ]
  },
  {
   "cell_type": "code",
   "execution_count": 7,
   "metadata": {},
   "outputs": [
    {
     "name": "stdout",
     "output_type": "stream",
     "text": [
      "(202, 201)\n",
      "\n",
      "(202, 201, 16)\n",
      "\n",
      "(605, 16)\n",
      "exit\n"
     ]
    }
   ],
   "source": [
    "#sanity check! \n",
    "for i in sorted(os.listdir(save_path)):\n",
    "    tmp_path = os.path.join(save_path + i)\n",
    "    tmp = np.load(tmp_path)\n",
    "    \n",
    "    print(tmp.shape)\n",
    "    #print(tmp)\n",
    "    \n",
    "    if input() == 'exit':\n",
    "        break"
   ]
  }
 ],
 "metadata": {
  "kernelspec": {
   "display_name": "Python 3",
   "language": "python",
   "name": "python3"
  },
  "language_info": {
   "codemirror_mode": {
    "name": "ipython",
    "version": 3
   },
   "file_extension": ".py",
   "mimetype": "text/x-python",
   "name": "python",
   "nbconvert_exporter": "python",
   "pygments_lexer": "ipython3",
   "version": "3.6.6"
  }
 },
 "nbformat": 4,
 "nbformat_minor": 2
}
